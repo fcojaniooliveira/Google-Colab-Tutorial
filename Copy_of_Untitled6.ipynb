{
  "nbformat": 4,
  "nbformat_minor": 0,
  "metadata": {
    "colab": {
      "name": "Copy of Untitled6.ipynb",
      "version": "0.3.2",
      "provenance": [],
      "include_colab_link": true
    },
    "kernelspec": {
      "name": "python3",
      "display_name": "Python 3"
    }
  },
  "cells": [
    {
      "cell_type": "markdown",
      "metadata": {
        "id": "view-in-github",
        "colab_type": "text"
      },
      "source": [
        "<a href=\"https://colab.research.google.com/github/fcojaniooliveira/Google-Colab-Tutorial/blob/master/Copy_of_Untitled6.ipynb\" target=\"_parent\"><img src=\"https://colab.research.google.com/assets/colab-badge.svg\" alt=\"Open In Colab\"/></a>"
      ]
    },
    {
      "cell_type": "code",
      "metadata": {
        "id": "5ykoEkWr6eFS",
        "colab_type": "code",
        "colab": {}
      },
      "source": [
        "import pandas as pd\n",
        "import numpy as np"
      ],
      "execution_count": 0,
      "outputs": []
    },
    {
      "cell_type": "code",
      "metadata": {
        "id": "xtr3Mh0D6yqo",
        "colab_type": "code",
        "colab": {}
      },
      "source": [
        "dataSet = pd.read_csv(\"https://raw.githubusercontent.com/fcojaniooliveira/testedados/master/SSA.csv\", sep = \";\")"
      ],
      "execution_count": 0,
      "outputs": []
    },
    {
      "cell_type": "code",
      "metadata": {
        "id": "wmDaPasY7Gyg",
        "colab_type": "code",
        "outputId": "a6baf297-9351-48e7-b399-fad8627180b8",
        "colab": {
          "base_uri": "https://localhost:8080/",
          "height": 241
        }
      },
      "source": [
        "dataSet.head()"
      ],
      "execution_count": 0,
      "outputs": [
        {
          "output_type": "execute_result",
          "data": {
            "text/html": [
              "<div>\n",
              "<style scoped>\n",
              "    .dataframe tbody tr th:only-of-type {\n",
              "        vertical-align: middle;\n",
              "    }\n",
              "\n",
              "    .dataframe tbody tr th {\n",
              "        vertical-align: top;\n",
              "    }\n",
              "\n",
              "    .dataframe thead th {\n",
              "        text-align: right;\n",
              "    }\n",
              "</style>\n",
              "<table border=\"1\" class=\"dataframe\">\n",
              "  <thead>\n",
              "    <tr style=\"text-align: right;\">\n",
              "      <th></th>\n",
              "      <th>Estacao</th>\n",
              "      <th>Data</th>\n",
              "      <th>Hora</th>\n",
              "      <th>Precipitacao</th>\n",
              "      <th>TempMaxima</th>\n",
              "      <th>TempMinima</th>\n",
              "      <th>Insolacao</th>\n",
              "      <th>Evaporacao Piche</th>\n",
              "      <th>Temp Comp Media</th>\n",
              "      <th>Umidade Relativa Media</th>\n",
              "      <th>Velocidade do Vento Media</th>\n",
              "      <th>Unnamed: 11</th>\n",
              "    </tr>\n",
              "  </thead>\n",
              "  <tbody>\n",
              "    <tr>\n",
              "      <th>0</th>\n",
              "      <td>83229</td>\n",
              "      <td>01/01/1981</td>\n",
              "      <td>1200</td>\n",
              "      <td>NaN</td>\n",
              "      <td>NaN</td>\n",
              "      <td>26.1</td>\n",
              "      <td>NaN</td>\n",
              "      <td>NaN</td>\n",
              "      <td>NaN</td>\n",
              "      <td>NaN</td>\n",
              "      <td>NaN</td>\n",
              "      <td>NaN</td>\n",
              "    </tr>\n",
              "    <tr>\n",
              "      <th>1</th>\n",
              "      <td>83229</td>\n",
              "      <td>01/01/1986</td>\n",
              "      <td>0</td>\n",
              "      <td>NaN</td>\n",
              "      <td>28.8</td>\n",
              "      <td>NaN</td>\n",
              "      <td>8.7</td>\n",
              "      <td>2.5</td>\n",
              "      <td>25.96</td>\n",
              "      <td>82.25</td>\n",
              "      <td>1.466667</td>\n",
              "      <td>NaN</td>\n",
              "    </tr>\n",
              "    <tr>\n",
              "      <th>2</th>\n",
              "      <td>83229</td>\n",
              "      <td>02/01/1986</td>\n",
              "      <td>0</td>\n",
              "      <td>NaN</td>\n",
              "      <td>29.8</td>\n",
              "      <td>NaN</td>\n",
              "      <td>5.8</td>\n",
              "      <td>2.1</td>\n",
              "      <td>26.34</td>\n",
              "      <td>81.00</td>\n",
              "      <td>1.133333</td>\n",
              "      <td>NaN</td>\n",
              "    </tr>\n",
              "    <tr>\n",
              "      <th>3</th>\n",
              "      <td>83229</td>\n",
              "      <td>02/01/1986</td>\n",
              "      <td>1200</td>\n",
              "      <td>0.0</td>\n",
              "      <td>NaN</td>\n",
              "      <td>NaN</td>\n",
              "      <td>NaN</td>\n",
              "      <td>NaN</td>\n",
              "      <td>NaN</td>\n",
              "      <td>NaN</td>\n",
              "      <td>NaN</td>\n",
              "      <td>NaN</td>\n",
              "    </tr>\n",
              "    <tr>\n",
              "      <th>4</th>\n",
              "      <td>83229</td>\n",
              "      <td>03/01/1986</td>\n",
              "      <td>0</td>\n",
              "      <td>NaN</td>\n",
              "      <td>31.2</td>\n",
              "      <td>NaN</td>\n",
              "      <td>9.0</td>\n",
              "      <td>2.9</td>\n",
              "      <td>27.16</td>\n",
              "      <td>80.50</td>\n",
              "      <td>2.033333</td>\n",
              "      <td>NaN</td>\n",
              "    </tr>\n",
              "  </tbody>\n",
              "</table>\n",
              "</div>"
            ],
            "text/plain": [
              "   Estacao        Data  ...  Velocidade do Vento Media  Unnamed: 11\n",
              "0    83229  01/01/1981  ...                        NaN          NaN\n",
              "1    83229  01/01/1986  ...                   1.466667          NaN\n",
              "2    83229  02/01/1986  ...                   1.133333          NaN\n",
              "3    83229  02/01/1986  ...                        NaN          NaN\n",
              "4    83229  03/01/1986  ...                   2.033333          NaN\n",
              "\n",
              "[5 rows x 12 columns]"
            ]
          },
          "metadata": {
            "tags": []
          },
          "execution_count": 89
        }
      ]
    },
    {
      "cell_type": "code",
      "metadata": {
        "id": "oK3ZZkYe7N0B",
        "colab_type": "code",
        "colab": {}
      },
      "source": [
        "dataSet[\"Data\"] = pd.to_datetime(dataSet[\"Data\"], format='%d/%m/%Y')"
      ],
      "execution_count": 0,
      "outputs": []
    },
    {
      "cell_type": "code",
      "metadata": {
        "id": "HgDn2usr7STl",
        "colab_type": "code",
        "colab": {}
      },
      "source": [
        "dataSet = dataSet.drop(columns = \"Unnamed: 11\")"
      ],
      "execution_count": 0,
      "outputs": []
    },
    {
      "cell_type": "code",
      "metadata": {
        "id": "jDK2OC-97Wcw",
        "colab_type": "code",
        "colab": {}
      },
      "source": [
        "dataSet00 = dataSet[dataSet[\"Hora\"] == 0]"
      ],
      "execution_count": 0,
      "outputs": []
    },
    {
      "cell_type": "code",
      "metadata": {
        "id": "ac4ifQrT7ZXM",
        "colab_type": "code",
        "colab": {}
      },
      "source": [
        "dataSet12 = dataSet[dataSet[\"Hora\"] == 1200]"
      ],
      "execution_count": 0,
      "outputs": []
    },
    {
      "cell_type": "code",
      "metadata": {
        "id": "7GVrvKKu7eLX",
        "colab_type": "code",
        "outputId": "5511bca6-d7e8-48b0-a937-669f53970704",
        "colab": {
          "base_uri": "https://localhost:8080/",
          "height": 224
        }
      },
      "source": [
        "dataSet00.head()"
      ],
      "execution_count": 0,
      "outputs": [
        {
          "output_type": "execute_result",
          "data": {
            "text/html": [
              "<div>\n",
              "<style scoped>\n",
              "    .dataframe tbody tr th:only-of-type {\n",
              "        vertical-align: middle;\n",
              "    }\n",
              "\n",
              "    .dataframe tbody tr th {\n",
              "        vertical-align: top;\n",
              "    }\n",
              "\n",
              "    .dataframe thead th {\n",
              "        text-align: right;\n",
              "    }\n",
              "</style>\n",
              "<table border=\"1\" class=\"dataframe\">\n",
              "  <thead>\n",
              "    <tr style=\"text-align: right;\">\n",
              "      <th></th>\n",
              "      <th>Estacao</th>\n",
              "      <th>Data</th>\n",
              "      <th>Hora</th>\n",
              "      <th>Precipitacao</th>\n",
              "      <th>TempMaxima</th>\n",
              "      <th>TempMinima</th>\n",
              "      <th>Insolacao</th>\n",
              "      <th>Evaporacao Piche</th>\n",
              "      <th>Temp Comp Media</th>\n",
              "      <th>Umidade Relativa Media</th>\n",
              "      <th>Velocidade do Vento Media</th>\n",
              "    </tr>\n",
              "  </thead>\n",
              "  <tbody>\n",
              "    <tr>\n",
              "      <th>1</th>\n",
              "      <td>83229</td>\n",
              "      <td>1986-01-01</td>\n",
              "      <td>0</td>\n",
              "      <td>NaN</td>\n",
              "      <td>28.8</td>\n",
              "      <td>NaN</td>\n",
              "      <td>8.7</td>\n",
              "      <td>2.5</td>\n",
              "      <td>25.96</td>\n",
              "      <td>82.25</td>\n",
              "      <td>1.466667</td>\n",
              "    </tr>\n",
              "    <tr>\n",
              "      <th>2</th>\n",
              "      <td>83229</td>\n",
              "      <td>1986-01-02</td>\n",
              "      <td>0</td>\n",
              "      <td>NaN</td>\n",
              "      <td>29.8</td>\n",
              "      <td>NaN</td>\n",
              "      <td>5.8</td>\n",
              "      <td>2.1</td>\n",
              "      <td>26.34</td>\n",
              "      <td>81.00</td>\n",
              "      <td>1.133333</td>\n",
              "    </tr>\n",
              "    <tr>\n",
              "      <th>4</th>\n",
              "      <td>83229</td>\n",
              "      <td>1986-01-03</td>\n",
              "      <td>0</td>\n",
              "      <td>NaN</td>\n",
              "      <td>31.2</td>\n",
              "      <td>NaN</td>\n",
              "      <td>9.0</td>\n",
              "      <td>2.9</td>\n",
              "      <td>27.16</td>\n",
              "      <td>80.50</td>\n",
              "      <td>2.033333</td>\n",
              "    </tr>\n",
              "    <tr>\n",
              "      <th>6</th>\n",
              "      <td>83229</td>\n",
              "      <td>1986-01-04</td>\n",
              "      <td>0</td>\n",
              "      <td>NaN</td>\n",
              "      <td>26.7</td>\n",
              "      <td>NaN</td>\n",
              "      <td>0.0</td>\n",
              "      <td>4.1</td>\n",
              "      <td>24.66</td>\n",
              "      <td>93.75</td>\n",
              "      <td>1.633333</td>\n",
              "    </tr>\n",
              "    <tr>\n",
              "      <th>8</th>\n",
              "      <td>83229</td>\n",
              "      <td>1986-01-05</td>\n",
              "      <td>0</td>\n",
              "      <td>NaN</td>\n",
              "      <td>29.6</td>\n",
              "      <td>NaN</td>\n",
              "      <td>6.3</td>\n",
              "      <td>0.3</td>\n",
              "      <td>25.94</td>\n",
              "      <td>84.75</td>\n",
              "      <td>1.633333</td>\n",
              "    </tr>\n",
              "  </tbody>\n",
              "</table>\n",
              "</div>"
            ],
            "text/plain": [
              "   Estacao       Data  ...  Umidade Relativa Media  Velocidade do Vento Media\n",
              "1    83229 1986-01-01  ...                   82.25                   1.466667\n",
              "2    83229 1986-01-02  ...                   81.00                   1.133333\n",
              "4    83229 1986-01-03  ...                   80.50                   2.033333\n",
              "6    83229 1986-01-04  ...                   93.75                   1.633333\n",
              "8    83229 1986-01-05  ...                   84.75                   1.633333\n",
              "\n",
              "[5 rows x 11 columns]"
            ]
          },
          "metadata": {
            "tags": []
          },
          "execution_count": 94
        }
      ]
    },
    {
      "cell_type": "code",
      "metadata": {
        "id": "MB1fGtjv7i7N",
        "colab_type": "code",
        "outputId": "4b39127d-b4e5-4eba-b842-5c61eafa6313",
        "colab": {
          "base_uri": "https://localhost:8080/",
          "height": 224
        }
      },
      "source": [
        "dataSet12.head()"
      ],
      "execution_count": 0,
      "outputs": [
        {
          "output_type": "execute_result",
          "data": {
            "text/html": [
              "<div>\n",
              "<style scoped>\n",
              "    .dataframe tbody tr th:only-of-type {\n",
              "        vertical-align: middle;\n",
              "    }\n",
              "\n",
              "    .dataframe tbody tr th {\n",
              "        vertical-align: top;\n",
              "    }\n",
              "\n",
              "    .dataframe thead th {\n",
              "        text-align: right;\n",
              "    }\n",
              "</style>\n",
              "<table border=\"1\" class=\"dataframe\">\n",
              "  <thead>\n",
              "    <tr style=\"text-align: right;\">\n",
              "      <th></th>\n",
              "      <th>Estacao</th>\n",
              "      <th>Data</th>\n",
              "      <th>Hora</th>\n",
              "      <th>Precipitacao</th>\n",
              "      <th>TempMaxima</th>\n",
              "      <th>TempMinima</th>\n",
              "      <th>Insolacao</th>\n",
              "      <th>Evaporacao Piche</th>\n",
              "      <th>Temp Comp Media</th>\n",
              "      <th>Umidade Relativa Media</th>\n",
              "      <th>Velocidade do Vento Media</th>\n",
              "    </tr>\n",
              "  </thead>\n",
              "  <tbody>\n",
              "    <tr>\n",
              "      <th>0</th>\n",
              "      <td>83229</td>\n",
              "      <td>1981-01-01</td>\n",
              "      <td>1200</td>\n",
              "      <td>NaN</td>\n",
              "      <td>NaN</td>\n",
              "      <td>26.1</td>\n",
              "      <td>NaN</td>\n",
              "      <td>NaN</td>\n",
              "      <td>NaN</td>\n",
              "      <td>NaN</td>\n",
              "      <td>NaN</td>\n",
              "    </tr>\n",
              "    <tr>\n",
              "      <th>3</th>\n",
              "      <td>83229</td>\n",
              "      <td>1986-01-02</td>\n",
              "      <td>1200</td>\n",
              "      <td>0.0</td>\n",
              "      <td>NaN</td>\n",
              "      <td>NaN</td>\n",
              "      <td>NaN</td>\n",
              "      <td>NaN</td>\n",
              "      <td>NaN</td>\n",
              "      <td>NaN</td>\n",
              "      <td>NaN</td>\n",
              "    </tr>\n",
              "    <tr>\n",
              "      <th>5</th>\n",
              "      <td>83229</td>\n",
              "      <td>1986-01-03</td>\n",
              "      <td>1200</td>\n",
              "      <td>0.0</td>\n",
              "      <td>NaN</td>\n",
              "      <td>NaN</td>\n",
              "      <td>NaN</td>\n",
              "      <td>NaN</td>\n",
              "      <td>NaN</td>\n",
              "      <td>NaN</td>\n",
              "      <td>NaN</td>\n",
              "    </tr>\n",
              "    <tr>\n",
              "      <th>7</th>\n",
              "      <td>83229</td>\n",
              "      <td>1986-01-04</td>\n",
              "      <td>1200</td>\n",
              "      <td>2.2</td>\n",
              "      <td>NaN</td>\n",
              "      <td>NaN</td>\n",
              "      <td>NaN</td>\n",
              "      <td>NaN</td>\n",
              "      <td>NaN</td>\n",
              "      <td>NaN</td>\n",
              "      <td>NaN</td>\n",
              "    </tr>\n",
              "    <tr>\n",
              "      <th>9</th>\n",
              "      <td>83229</td>\n",
              "      <td>1986-01-05</td>\n",
              "      <td>1200</td>\n",
              "      <td>16.0</td>\n",
              "      <td>NaN</td>\n",
              "      <td>NaN</td>\n",
              "      <td>NaN</td>\n",
              "      <td>NaN</td>\n",
              "      <td>NaN</td>\n",
              "      <td>NaN</td>\n",
              "      <td>NaN</td>\n",
              "    </tr>\n",
              "  </tbody>\n",
              "</table>\n",
              "</div>"
            ],
            "text/plain": [
              "   Estacao       Data  ...  Umidade Relativa Media  Velocidade do Vento Media\n",
              "0    83229 1981-01-01  ...                     NaN                        NaN\n",
              "3    83229 1986-01-02  ...                     NaN                        NaN\n",
              "5    83229 1986-01-03  ...                     NaN                        NaN\n",
              "7    83229 1986-01-04  ...                     NaN                        NaN\n",
              "9    83229 1986-01-05  ...                     NaN                        NaN\n",
              "\n",
              "[5 rows x 11 columns]"
            ]
          },
          "metadata": {
            "tags": []
          },
          "execution_count": 95
        }
      ]
    },
    {
      "cell_type": "code",
      "metadata": {
        "id": "fqYPV8JA7qaF",
        "colab_type": "code",
        "colab": {}
      },
      "source": [
        "dataSetProv = pd.DataFrame()"
      ],
      "execution_count": 0,
      "outputs": []
    },
    {
      "cell_type": "code",
      "metadata": {
        "id": "LJMWP8dP7rYd",
        "colab_type": "code",
        "colab": {}
      },
      "source": [
        "dataSetProv[\"Data\"] = pd.date_range(start='1/1/1980', end='31/12/2010')"
      ],
      "execution_count": 0,
      "outputs": []
    },
    {
      "cell_type": "code",
      "metadata": {
        "id": "5p3ujXhY7u6i",
        "colab_type": "code",
        "outputId": "e9e6f71d-b710-4f16-f4e9-3cc7897beea4",
        "colab": {
          "base_uri": "https://localhost:8080/",
          "height": 206
        }
      },
      "source": [
        "dataSetProv.head()"
      ],
      "execution_count": 0,
      "outputs": [
        {
          "output_type": "execute_result",
          "data": {
            "text/html": [
              "<div>\n",
              "<style scoped>\n",
              "    .dataframe tbody tr th:only-of-type {\n",
              "        vertical-align: middle;\n",
              "    }\n",
              "\n",
              "    .dataframe tbody tr th {\n",
              "        vertical-align: top;\n",
              "    }\n",
              "\n",
              "    .dataframe thead th {\n",
              "        text-align: right;\n",
              "    }\n",
              "</style>\n",
              "<table border=\"1\" class=\"dataframe\">\n",
              "  <thead>\n",
              "    <tr style=\"text-align: right;\">\n",
              "      <th></th>\n",
              "      <th>Data</th>\n",
              "    </tr>\n",
              "  </thead>\n",
              "  <tbody>\n",
              "    <tr>\n",
              "      <th>0</th>\n",
              "      <td>1980-01-01</td>\n",
              "    </tr>\n",
              "    <tr>\n",
              "      <th>1</th>\n",
              "      <td>1980-01-02</td>\n",
              "    </tr>\n",
              "    <tr>\n",
              "      <th>2</th>\n",
              "      <td>1980-01-03</td>\n",
              "    </tr>\n",
              "    <tr>\n",
              "      <th>3</th>\n",
              "      <td>1980-01-04</td>\n",
              "    </tr>\n",
              "    <tr>\n",
              "      <th>4</th>\n",
              "      <td>1980-01-05</td>\n",
              "    </tr>\n",
              "  </tbody>\n",
              "</table>\n",
              "</div>"
            ],
            "text/plain": [
              "        Data\n",
              "0 1980-01-01\n",
              "1 1980-01-02\n",
              "2 1980-01-03\n",
              "3 1980-01-04\n",
              "4 1980-01-05"
            ]
          },
          "metadata": {
            "tags": []
          },
          "execution_count": 98
        }
      ]
    },
    {
      "cell_type": "code",
      "metadata": {
        "id": "tW76m5JB7yM-",
        "colab_type": "code",
        "colab": {}
      },
      "source": [
        "dataSetProv = dataSetProv.set_index(\"Data\")"
      ],
      "execution_count": 0,
      "outputs": []
    },
    {
      "cell_type": "code",
      "metadata": {
        "id": "V_buobV171I-",
        "colab_type": "code",
        "colab": {}
      },
      "source": [
        "dataSet00 = dataSet00.set_index(\"Data\")"
      ],
      "execution_count": 0,
      "outputs": []
    },
    {
      "cell_type": "code",
      "metadata": {
        "id": "j5gmJdBL74W5",
        "colab_type": "code",
        "colab": {}
      },
      "source": [
        "dataSet12 = dataSet12.set_index(\"Data\")"
      ],
      "execution_count": 0,
      "outputs": []
    },
    {
      "cell_type": "code",
      "metadata": {
        "id": "aW3eyXSq77Yy",
        "colab_type": "code",
        "outputId": "1c4850d0-75a9-4edb-9716-8639c8da17ae",
        "colab": {
          "base_uri": "https://localhost:8080/",
          "height": 255
        }
      },
      "source": [
        "dataSet00.head()"
      ],
      "execution_count": 0,
      "outputs": [
        {
          "output_type": "execute_result",
          "data": {
            "text/html": [
              "<div>\n",
              "<style scoped>\n",
              "    .dataframe tbody tr th:only-of-type {\n",
              "        vertical-align: middle;\n",
              "    }\n",
              "\n",
              "    .dataframe tbody tr th {\n",
              "        vertical-align: top;\n",
              "    }\n",
              "\n",
              "    .dataframe thead th {\n",
              "        text-align: right;\n",
              "    }\n",
              "</style>\n",
              "<table border=\"1\" class=\"dataframe\">\n",
              "  <thead>\n",
              "    <tr style=\"text-align: right;\">\n",
              "      <th></th>\n",
              "      <th>Estacao</th>\n",
              "      <th>Hora</th>\n",
              "      <th>Precipitacao</th>\n",
              "      <th>TempMaxima</th>\n",
              "      <th>TempMinima</th>\n",
              "      <th>Insolacao</th>\n",
              "      <th>Evaporacao Piche</th>\n",
              "      <th>Temp Comp Media</th>\n",
              "      <th>Umidade Relativa Media</th>\n",
              "      <th>Velocidade do Vento Media</th>\n",
              "    </tr>\n",
              "    <tr>\n",
              "      <th>Data</th>\n",
              "      <th></th>\n",
              "      <th></th>\n",
              "      <th></th>\n",
              "      <th></th>\n",
              "      <th></th>\n",
              "      <th></th>\n",
              "      <th></th>\n",
              "      <th></th>\n",
              "      <th></th>\n",
              "      <th></th>\n",
              "    </tr>\n",
              "  </thead>\n",
              "  <tbody>\n",
              "    <tr>\n",
              "      <th>1986-01-01</th>\n",
              "      <td>83229</td>\n",
              "      <td>0</td>\n",
              "      <td>NaN</td>\n",
              "      <td>28.8</td>\n",
              "      <td>NaN</td>\n",
              "      <td>8.7</td>\n",
              "      <td>2.5</td>\n",
              "      <td>25.96</td>\n",
              "      <td>82.25</td>\n",
              "      <td>1.466667</td>\n",
              "    </tr>\n",
              "    <tr>\n",
              "      <th>1986-01-02</th>\n",
              "      <td>83229</td>\n",
              "      <td>0</td>\n",
              "      <td>NaN</td>\n",
              "      <td>29.8</td>\n",
              "      <td>NaN</td>\n",
              "      <td>5.8</td>\n",
              "      <td>2.1</td>\n",
              "      <td>26.34</td>\n",
              "      <td>81.00</td>\n",
              "      <td>1.133333</td>\n",
              "    </tr>\n",
              "    <tr>\n",
              "      <th>1986-01-03</th>\n",
              "      <td>83229</td>\n",
              "      <td>0</td>\n",
              "      <td>NaN</td>\n",
              "      <td>31.2</td>\n",
              "      <td>NaN</td>\n",
              "      <td>9.0</td>\n",
              "      <td>2.9</td>\n",
              "      <td>27.16</td>\n",
              "      <td>80.50</td>\n",
              "      <td>2.033333</td>\n",
              "    </tr>\n",
              "    <tr>\n",
              "      <th>1986-01-04</th>\n",
              "      <td>83229</td>\n",
              "      <td>0</td>\n",
              "      <td>NaN</td>\n",
              "      <td>26.7</td>\n",
              "      <td>NaN</td>\n",
              "      <td>0.0</td>\n",
              "      <td>4.1</td>\n",
              "      <td>24.66</td>\n",
              "      <td>93.75</td>\n",
              "      <td>1.633333</td>\n",
              "    </tr>\n",
              "    <tr>\n",
              "      <th>1986-01-05</th>\n",
              "      <td>83229</td>\n",
              "      <td>0</td>\n",
              "      <td>NaN</td>\n",
              "      <td>29.6</td>\n",
              "      <td>NaN</td>\n",
              "      <td>6.3</td>\n",
              "      <td>0.3</td>\n",
              "      <td>25.94</td>\n",
              "      <td>84.75</td>\n",
              "      <td>1.633333</td>\n",
              "    </tr>\n",
              "  </tbody>\n",
              "</table>\n",
              "</div>"
            ],
            "text/plain": [
              "            Estacao  Hora  ...  Umidade Relativa Media  Velocidade do Vento Media\n",
              "Data                       ...                                                   \n",
              "1986-01-01    83229     0  ...                   82.25                   1.466667\n",
              "1986-01-02    83229     0  ...                   81.00                   1.133333\n",
              "1986-01-03    83229     0  ...                   80.50                   2.033333\n",
              "1986-01-04    83229     0  ...                   93.75                   1.633333\n",
              "1986-01-05    83229     0  ...                   84.75                   1.633333\n",
              "\n",
              "[5 rows x 10 columns]"
            ]
          },
          "metadata": {
            "tags": []
          },
          "execution_count": 102
        }
      ]
    },
    {
      "cell_type": "code",
      "metadata": {
        "id": "W_cmlo_F793V",
        "colab_type": "code",
        "outputId": "4d7f1cc7-6168-491c-9b4d-6258d574132b",
        "colab": {
          "base_uri": "https://localhost:8080/",
          "height": 255
        }
      },
      "source": [
        "dataSet12.head()"
      ],
      "execution_count": 0,
      "outputs": [
        {
          "output_type": "execute_result",
          "data": {
            "text/html": [
              "<div>\n",
              "<style scoped>\n",
              "    .dataframe tbody tr th:only-of-type {\n",
              "        vertical-align: middle;\n",
              "    }\n",
              "\n",
              "    .dataframe tbody tr th {\n",
              "        vertical-align: top;\n",
              "    }\n",
              "\n",
              "    .dataframe thead th {\n",
              "        text-align: right;\n",
              "    }\n",
              "</style>\n",
              "<table border=\"1\" class=\"dataframe\">\n",
              "  <thead>\n",
              "    <tr style=\"text-align: right;\">\n",
              "      <th></th>\n",
              "      <th>Estacao</th>\n",
              "      <th>Hora</th>\n",
              "      <th>Precipitacao</th>\n",
              "      <th>TempMaxima</th>\n",
              "      <th>TempMinima</th>\n",
              "      <th>Insolacao</th>\n",
              "      <th>Evaporacao Piche</th>\n",
              "      <th>Temp Comp Media</th>\n",
              "      <th>Umidade Relativa Media</th>\n",
              "      <th>Velocidade do Vento Media</th>\n",
              "    </tr>\n",
              "    <tr>\n",
              "      <th>Data</th>\n",
              "      <th></th>\n",
              "      <th></th>\n",
              "      <th></th>\n",
              "      <th></th>\n",
              "      <th></th>\n",
              "      <th></th>\n",
              "      <th></th>\n",
              "      <th></th>\n",
              "      <th></th>\n",
              "      <th></th>\n",
              "    </tr>\n",
              "  </thead>\n",
              "  <tbody>\n",
              "    <tr>\n",
              "      <th>1981-01-01</th>\n",
              "      <td>83229</td>\n",
              "      <td>1200</td>\n",
              "      <td>NaN</td>\n",
              "      <td>NaN</td>\n",
              "      <td>26.1</td>\n",
              "      <td>NaN</td>\n",
              "      <td>NaN</td>\n",
              "      <td>NaN</td>\n",
              "      <td>NaN</td>\n",
              "      <td>NaN</td>\n",
              "    </tr>\n",
              "    <tr>\n",
              "      <th>1986-01-02</th>\n",
              "      <td>83229</td>\n",
              "      <td>1200</td>\n",
              "      <td>0.0</td>\n",
              "      <td>NaN</td>\n",
              "      <td>NaN</td>\n",
              "      <td>NaN</td>\n",
              "      <td>NaN</td>\n",
              "      <td>NaN</td>\n",
              "      <td>NaN</td>\n",
              "      <td>NaN</td>\n",
              "    </tr>\n",
              "    <tr>\n",
              "      <th>1986-01-03</th>\n",
              "      <td>83229</td>\n",
              "      <td>1200</td>\n",
              "      <td>0.0</td>\n",
              "      <td>NaN</td>\n",
              "      <td>NaN</td>\n",
              "      <td>NaN</td>\n",
              "      <td>NaN</td>\n",
              "      <td>NaN</td>\n",
              "      <td>NaN</td>\n",
              "      <td>NaN</td>\n",
              "    </tr>\n",
              "    <tr>\n",
              "      <th>1986-01-04</th>\n",
              "      <td>83229</td>\n",
              "      <td>1200</td>\n",
              "      <td>2.2</td>\n",
              "      <td>NaN</td>\n",
              "      <td>NaN</td>\n",
              "      <td>NaN</td>\n",
              "      <td>NaN</td>\n",
              "      <td>NaN</td>\n",
              "      <td>NaN</td>\n",
              "      <td>NaN</td>\n",
              "    </tr>\n",
              "    <tr>\n",
              "      <th>1986-01-05</th>\n",
              "      <td>83229</td>\n",
              "      <td>1200</td>\n",
              "      <td>16.0</td>\n",
              "      <td>NaN</td>\n",
              "      <td>NaN</td>\n",
              "      <td>NaN</td>\n",
              "      <td>NaN</td>\n",
              "      <td>NaN</td>\n",
              "      <td>NaN</td>\n",
              "      <td>NaN</td>\n",
              "    </tr>\n",
              "  </tbody>\n",
              "</table>\n",
              "</div>"
            ],
            "text/plain": [
              "            Estacao  Hora  ...  Umidade Relativa Media  Velocidade do Vento Media\n",
              "Data                       ...                                                   \n",
              "1981-01-01    83229  1200  ...                     NaN                        NaN\n",
              "1986-01-02    83229  1200  ...                     NaN                        NaN\n",
              "1986-01-03    83229  1200  ...                     NaN                        NaN\n",
              "1986-01-04    83229  1200  ...                     NaN                        NaN\n",
              "1986-01-05    83229  1200  ...                     NaN                        NaN\n",
              "\n",
              "[5 rows x 10 columns]"
            ]
          },
          "metadata": {
            "tags": []
          },
          "execution_count": 103
        }
      ]
    },
    {
      "cell_type": "code",
      "metadata": {
        "id": "LpRYYKg28Dly",
        "colab_type": "code",
        "colab": {}
      },
      "source": [
        "dataSet00 = dataSet00.drop(columns = [\"Precipitacao\",\"TempMinima\",\"Hora\",\"Estacao\"])\n",
        "dataSet12 = dataSet12[[\"Precipitacao\", \"TempMinima\"]]"
      ],
      "execution_count": 0,
      "outputs": []
    },
    {
      "cell_type": "code",
      "metadata": {
        "id": "M9MZcZO_8Eya",
        "colab_type": "code",
        "outputId": "625432e0-0a85-46f0-c3bc-c9602eadcfd7",
        "colab": {
          "base_uri": "https://localhost:8080/",
          "height": 238
        }
      },
      "source": [
        "dataSet00.head()"
      ],
      "execution_count": 0,
      "outputs": [
        {
          "output_type": "execute_result",
          "data": {
            "text/html": [
              "<div>\n",
              "<style scoped>\n",
              "    .dataframe tbody tr th:only-of-type {\n",
              "        vertical-align: middle;\n",
              "    }\n",
              "\n",
              "    .dataframe tbody tr th {\n",
              "        vertical-align: top;\n",
              "    }\n",
              "\n",
              "    .dataframe thead th {\n",
              "        text-align: right;\n",
              "    }\n",
              "</style>\n",
              "<table border=\"1\" class=\"dataframe\">\n",
              "  <thead>\n",
              "    <tr style=\"text-align: right;\">\n",
              "      <th></th>\n",
              "      <th>TempMaxima</th>\n",
              "      <th>Insolacao</th>\n",
              "      <th>Evaporacao Piche</th>\n",
              "      <th>Temp Comp Media</th>\n",
              "      <th>Umidade Relativa Media</th>\n",
              "      <th>Velocidade do Vento Media</th>\n",
              "    </tr>\n",
              "    <tr>\n",
              "      <th>Data</th>\n",
              "      <th></th>\n",
              "      <th></th>\n",
              "      <th></th>\n",
              "      <th></th>\n",
              "      <th></th>\n",
              "      <th></th>\n",
              "    </tr>\n",
              "  </thead>\n",
              "  <tbody>\n",
              "    <tr>\n",
              "      <th>1986-01-01</th>\n",
              "      <td>28.8</td>\n",
              "      <td>8.7</td>\n",
              "      <td>2.5</td>\n",
              "      <td>25.96</td>\n",
              "      <td>82.25</td>\n",
              "      <td>1.466667</td>\n",
              "    </tr>\n",
              "    <tr>\n",
              "      <th>1986-01-02</th>\n",
              "      <td>29.8</td>\n",
              "      <td>5.8</td>\n",
              "      <td>2.1</td>\n",
              "      <td>26.34</td>\n",
              "      <td>81.00</td>\n",
              "      <td>1.133333</td>\n",
              "    </tr>\n",
              "    <tr>\n",
              "      <th>1986-01-03</th>\n",
              "      <td>31.2</td>\n",
              "      <td>9.0</td>\n",
              "      <td>2.9</td>\n",
              "      <td>27.16</td>\n",
              "      <td>80.50</td>\n",
              "      <td>2.033333</td>\n",
              "    </tr>\n",
              "    <tr>\n",
              "      <th>1986-01-04</th>\n",
              "      <td>26.7</td>\n",
              "      <td>0.0</td>\n",
              "      <td>4.1</td>\n",
              "      <td>24.66</td>\n",
              "      <td>93.75</td>\n",
              "      <td>1.633333</td>\n",
              "    </tr>\n",
              "    <tr>\n",
              "      <th>1986-01-05</th>\n",
              "      <td>29.6</td>\n",
              "      <td>6.3</td>\n",
              "      <td>0.3</td>\n",
              "      <td>25.94</td>\n",
              "      <td>84.75</td>\n",
              "      <td>1.633333</td>\n",
              "    </tr>\n",
              "  </tbody>\n",
              "</table>\n",
              "</div>"
            ],
            "text/plain": [
              "            TempMaxima  ...  Velocidade do Vento Media\n",
              "Data                    ...                           \n",
              "1986-01-01        28.8  ...                   1.466667\n",
              "1986-01-02        29.8  ...                   1.133333\n",
              "1986-01-03        31.2  ...                   2.033333\n",
              "1986-01-04        26.7  ...                   1.633333\n",
              "1986-01-05        29.6  ...                   1.633333\n",
              "\n",
              "[5 rows x 6 columns]"
            ]
          },
          "metadata": {
            "tags": []
          },
          "execution_count": 105
        }
      ]
    },
    {
      "cell_type": "code",
      "metadata": {
        "id": "inOp3jJA8IXp",
        "colab_type": "code",
        "outputId": "a4a75cc6-c947-4e79-9464-dff7ed21847a",
        "colab": {
          "base_uri": "https://localhost:8080/",
          "height": 238
        }
      },
      "source": [
        "dataSet12.head()"
      ],
      "execution_count": 0,
      "outputs": [
        {
          "output_type": "execute_result",
          "data": {
            "text/html": [
              "<div>\n",
              "<style scoped>\n",
              "    .dataframe tbody tr th:only-of-type {\n",
              "        vertical-align: middle;\n",
              "    }\n",
              "\n",
              "    .dataframe tbody tr th {\n",
              "        vertical-align: top;\n",
              "    }\n",
              "\n",
              "    .dataframe thead th {\n",
              "        text-align: right;\n",
              "    }\n",
              "</style>\n",
              "<table border=\"1\" class=\"dataframe\">\n",
              "  <thead>\n",
              "    <tr style=\"text-align: right;\">\n",
              "      <th></th>\n",
              "      <th>Precipitacao</th>\n",
              "      <th>TempMinima</th>\n",
              "    </tr>\n",
              "    <tr>\n",
              "      <th>Data</th>\n",
              "      <th></th>\n",
              "      <th></th>\n",
              "    </tr>\n",
              "  </thead>\n",
              "  <tbody>\n",
              "    <tr>\n",
              "      <th>1981-01-01</th>\n",
              "      <td>NaN</td>\n",
              "      <td>26.1</td>\n",
              "    </tr>\n",
              "    <tr>\n",
              "      <th>1986-01-02</th>\n",
              "      <td>0.0</td>\n",
              "      <td>NaN</td>\n",
              "    </tr>\n",
              "    <tr>\n",
              "      <th>1986-01-03</th>\n",
              "      <td>0.0</td>\n",
              "      <td>NaN</td>\n",
              "    </tr>\n",
              "    <tr>\n",
              "      <th>1986-01-04</th>\n",
              "      <td>2.2</td>\n",
              "      <td>NaN</td>\n",
              "    </tr>\n",
              "    <tr>\n",
              "      <th>1986-01-05</th>\n",
              "      <td>16.0</td>\n",
              "      <td>NaN</td>\n",
              "    </tr>\n",
              "  </tbody>\n",
              "</table>\n",
              "</div>"
            ],
            "text/plain": [
              "            Precipitacao  TempMinima\n",
              "Data                                \n",
              "1981-01-01           NaN        26.1\n",
              "1986-01-02           0.0         NaN\n",
              "1986-01-03           0.0         NaN\n",
              "1986-01-04           2.2         NaN\n",
              "1986-01-05          16.0         NaN"
            ]
          },
          "metadata": {
            "tags": []
          },
          "execution_count": 106
        }
      ]
    },
    {
      "cell_type": "code",
      "metadata": {
        "id": "THT1ge9P8LcN",
        "colab_type": "code",
        "colab": {}
      },
      "source": [
        "dataSetProv = dataSetProv.join(dataSet00).join(dataSet12)"
      ],
      "execution_count": 0,
      "outputs": []
    },
    {
      "cell_type": "code",
      "metadata": {
        "id": "HI08cQf88OyN",
        "colab_type": "code",
        "outputId": "08cd4c98-f4f5-4954-f73c-fce5bce33ff1",
        "colab": {
          "base_uri": "https://localhost:8080/",
          "height": 255
        }
      },
      "source": [
        "dataSetProv.head()"
      ],
      "execution_count": 0,
      "outputs": [
        {
          "output_type": "execute_result",
          "data": {
            "text/html": [
              "<div>\n",
              "<style scoped>\n",
              "    .dataframe tbody tr th:only-of-type {\n",
              "        vertical-align: middle;\n",
              "    }\n",
              "\n",
              "    .dataframe tbody tr th {\n",
              "        vertical-align: top;\n",
              "    }\n",
              "\n",
              "    .dataframe thead th {\n",
              "        text-align: right;\n",
              "    }\n",
              "</style>\n",
              "<table border=\"1\" class=\"dataframe\">\n",
              "  <thead>\n",
              "    <tr style=\"text-align: right;\">\n",
              "      <th></th>\n",
              "      <th>TempMaxima</th>\n",
              "      <th>Insolacao</th>\n",
              "      <th>Evaporacao Piche</th>\n",
              "      <th>Temp Comp Media</th>\n",
              "      <th>Umidade Relativa Media</th>\n",
              "      <th>Velocidade do Vento Media</th>\n",
              "      <th>Precipitacao</th>\n",
              "      <th>TempMinima</th>\n",
              "    </tr>\n",
              "    <tr>\n",
              "      <th>Data</th>\n",
              "      <th></th>\n",
              "      <th></th>\n",
              "      <th></th>\n",
              "      <th></th>\n",
              "      <th></th>\n",
              "      <th></th>\n",
              "      <th></th>\n",
              "      <th></th>\n",
              "    </tr>\n",
              "  </thead>\n",
              "  <tbody>\n",
              "    <tr>\n",
              "      <th>1980-01-01</th>\n",
              "      <td>NaN</td>\n",
              "      <td>NaN</td>\n",
              "      <td>NaN</td>\n",
              "      <td>NaN</td>\n",
              "      <td>NaN</td>\n",
              "      <td>NaN</td>\n",
              "      <td>NaN</td>\n",
              "      <td>NaN</td>\n",
              "    </tr>\n",
              "    <tr>\n",
              "      <th>1980-01-02</th>\n",
              "      <td>NaN</td>\n",
              "      <td>NaN</td>\n",
              "      <td>NaN</td>\n",
              "      <td>NaN</td>\n",
              "      <td>NaN</td>\n",
              "      <td>NaN</td>\n",
              "      <td>NaN</td>\n",
              "      <td>NaN</td>\n",
              "    </tr>\n",
              "    <tr>\n",
              "      <th>1980-01-03</th>\n",
              "      <td>NaN</td>\n",
              "      <td>NaN</td>\n",
              "      <td>NaN</td>\n",
              "      <td>NaN</td>\n",
              "      <td>NaN</td>\n",
              "      <td>NaN</td>\n",
              "      <td>NaN</td>\n",
              "      <td>NaN</td>\n",
              "    </tr>\n",
              "    <tr>\n",
              "      <th>1980-01-04</th>\n",
              "      <td>NaN</td>\n",
              "      <td>NaN</td>\n",
              "      <td>NaN</td>\n",
              "      <td>NaN</td>\n",
              "      <td>NaN</td>\n",
              "      <td>NaN</td>\n",
              "      <td>NaN</td>\n",
              "      <td>NaN</td>\n",
              "    </tr>\n",
              "    <tr>\n",
              "      <th>1980-01-05</th>\n",
              "      <td>NaN</td>\n",
              "      <td>NaN</td>\n",
              "      <td>NaN</td>\n",
              "      <td>NaN</td>\n",
              "      <td>NaN</td>\n",
              "      <td>NaN</td>\n",
              "      <td>NaN</td>\n",
              "      <td>NaN</td>\n",
              "    </tr>\n",
              "  </tbody>\n",
              "</table>\n",
              "</div>"
            ],
            "text/plain": [
              "            TempMaxima  Insolacao  ...  Precipitacao  TempMinima\n",
              "Data                               ...                          \n",
              "1980-01-01         NaN        NaN  ...           NaN         NaN\n",
              "1980-01-02         NaN        NaN  ...           NaN         NaN\n",
              "1980-01-03         NaN        NaN  ...           NaN         NaN\n",
              "1980-01-04         NaN        NaN  ...           NaN         NaN\n",
              "1980-01-05         NaN        NaN  ...           NaN         NaN\n",
              "\n",
              "[5 rows x 8 columns]"
            ]
          },
          "metadata": {
            "tags": []
          },
          "execution_count": 108
        }
      ]
    },
    {
      "cell_type": "code",
      "metadata": {
        "id": "fY8YW7eW8VU0",
        "colab_type": "code",
        "outputId": "00bfe68f-bfd0-4259-d239-cd8b3bde72e4",
        "colab": {
          "base_uri": "https://localhost:8080/",
          "height": 318
        }
      },
      "source": [
        "dataSetProv.describe()"
      ],
      "execution_count": 0,
      "outputs": [
        {
          "output_type": "execute_result",
          "data": {
            "text/html": [
              "<div>\n",
              "<style scoped>\n",
              "    .dataframe tbody tr th:only-of-type {\n",
              "        vertical-align: middle;\n",
              "    }\n",
              "\n",
              "    .dataframe tbody tr th {\n",
              "        vertical-align: top;\n",
              "    }\n",
              "\n",
              "    .dataframe thead th {\n",
              "        text-align: right;\n",
              "    }\n",
              "</style>\n",
              "<table border=\"1\" class=\"dataframe\">\n",
              "  <thead>\n",
              "    <tr style=\"text-align: right;\">\n",
              "      <th></th>\n",
              "      <th>TempMaxima</th>\n",
              "      <th>Insolacao</th>\n",
              "      <th>Evaporacao Piche</th>\n",
              "      <th>Temp Comp Media</th>\n",
              "      <th>Umidade Relativa Media</th>\n",
              "      <th>Velocidade do Vento Media</th>\n",
              "      <th>Precipitacao</th>\n",
              "      <th>TempMinima</th>\n",
              "    </tr>\n",
              "  </thead>\n",
              "  <tbody>\n",
              "    <tr>\n",
              "      <th>count</th>\n",
              "      <td>8505.000000</td>\n",
              "      <td>8319.000000</td>\n",
              "      <td>7814.000000</td>\n",
              "      <td>8342.000000</td>\n",
              "      <td>8441.000000</td>\n",
              "      <td>8510.000000</td>\n",
              "      <td>8481.000000</td>\n",
              "      <td>7405.000000</td>\n",
              "    </tr>\n",
              "    <tr>\n",
              "      <th>mean</th>\n",
              "      <td>28.990194</td>\n",
              "      <td>6.735209</td>\n",
              "      <td>2.873394</td>\n",
              "      <td>25.673572</td>\n",
              "      <td>81.054603</td>\n",
              "      <td>1.756158</td>\n",
              "      <td>5.174001</td>\n",
              "      <td>22.865361</td>\n",
              "    </tr>\n",
              "    <tr>\n",
              "      <th>std</th>\n",
              "      <td>2.086216</td>\n",
              "      <td>3.251607</td>\n",
              "      <td>1.212567</td>\n",
              "      <td>1.517546</td>\n",
              "      <td>5.955410</td>\n",
              "      <td>0.744351</td>\n",
              "      <td>12.687103</td>\n",
              "      <td>1.528420</td>\n",
              "    </tr>\n",
              "    <tr>\n",
              "      <th>min</th>\n",
              "      <td>21.800000</td>\n",
              "      <td>0.000000</td>\n",
              "      <td>0.000000</td>\n",
              "      <td>20.260000</td>\n",
              "      <td>59.250000</td>\n",
              "      <td>0.000000</td>\n",
              "      <td>0.000000</td>\n",
              "      <td>17.500000</td>\n",
              "    </tr>\n",
              "    <tr>\n",
              "      <th>25%</th>\n",
              "      <td>27.400000</td>\n",
              "      <td>4.600000</td>\n",
              "      <td>2.100000</td>\n",
              "      <td>24.480000</td>\n",
              "      <td>76.750000</td>\n",
              "      <td>1.300000</td>\n",
              "      <td>0.000000</td>\n",
              "      <td>21.800000</td>\n",
              "    </tr>\n",
              "    <tr>\n",
              "      <th>50%</th>\n",
              "      <td>29.200000</td>\n",
              "      <td>7.600000</td>\n",
              "      <td>2.900000</td>\n",
              "      <td>25.860000</td>\n",
              "      <td>80.500000</td>\n",
              "      <td>1.633333</td>\n",
              "      <td>0.200000</td>\n",
              "      <td>22.900000</td>\n",
              "    </tr>\n",
              "    <tr>\n",
              "      <th>75%</th>\n",
              "      <td>30.600000</td>\n",
              "      <td>9.300000</td>\n",
              "      <td>3.600000</td>\n",
              "      <td>26.900000</td>\n",
              "      <td>85.000000</td>\n",
              "      <td>2.066667</td>\n",
              "      <td>4.600000</td>\n",
              "      <td>24.000000</td>\n",
              "    </tr>\n",
              "    <tr>\n",
              "      <th>max</th>\n",
              "      <td>37.100000</td>\n",
              "      <td>12.400000</td>\n",
              "      <td>18.900000</td>\n",
              "      <td>29.220000</td>\n",
              "      <td>99.750000</td>\n",
              "      <td>7.600000</td>\n",
              "      <td>232.500000</td>\n",
              "      <td>26.900000</td>\n",
              "    </tr>\n",
              "  </tbody>\n",
              "</table>\n",
              "</div>"
            ],
            "text/plain": [
              "        TempMaxima    Insolacao  ...  Precipitacao   TempMinima\n",
              "count  8505.000000  8319.000000  ...   8481.000000  7405.000000\n",
              "mean     28.990194     6.735209  ...      5.174001    22.865361\n",
              "std       2.086216     3.251607  ...     12.687103     1.528420\n",
              "min      21.800000     0.000000  ...      0.000000    17.500000\n",
              "25%      27.400000     4.600000  ...      0.000000    21.800000\n",
              "50%      29.200000     7.600000  ...      0.200000    22.900000\n",
              "75%      30.600000     9.300000  ...      4.600000    24.000000\n",
              "max      37.100000    12.400000  ...    232.500000    26.900000\n",
              "\n",
              "[8 rows x 8 columns]"
            ]
          },
          "metadata": {
            "tags": []
          },
          "execution_count": 109
        }
      ]
    },
    {
      "cell_type": "code",
      "metadata": {
        "id": "nQvb1DR28ejH",
        "colab_type": "code",
        "colab": {}
      },
      "source": [
        "dataSet = dataSetProv.dropna(subset = [\"TempMaxima\"])"
      ],
      "execution_count": 0,
      "outputs": []
    },
    {
      "cell_type": "code",
      "metadata": {
        "id": "etNLMmer8h8F",
        "colab_type": "code",
        "colab": {}
      },
      "source": [
        "dataSet = dataSet.fillna(0)"
      ],
      "execution_count": 0,
      "outputs": []
    },
    {
      "cell_type": "code",
      "metadata": {
        "id": "c9Qlxxdq8nLU",
        "colab_type": "code",
        "colab": {}
      },
      "source": [
        "tempMax = dataSet[\"TempMaxima\"]\n",
        "dataSet = dataSet.drop(columns = \"TempMaxima\")"
      ],
      "execution_count": 0,
      "outputs": []
    },
    {
      "cell_type": "code",
      "metadata": {
        "id": "0JiB5Cgt9EsE",
        "colab_type": "code",
        "colab": {}
      },
      "source": [
        "from keras.models import Sequential\n",
        "from keras.layers import Dense\n",
        "from sklearn.metrics import mean_absolute_error\n",
        "from sklearn.metrics import mean_squared_error\n",
        "from sklearn.model_selection import train_test_split\n"
      ],
      "execution_count": 0,
      "outputs": []
    },
    {
      "cell_type": "code",
      "metadata": {
        "id": "BLPCaCoY97T5",
        "colab_type": "code",
        "outputId": "2deed103-86d3-4817-9fdd-ac52ae5b05ba",
        "colab": {
          "base_uri": "https://localhost:8080/",
          "height": 238
        }
      },
      "source": [
        "dataSet.head()"
      ],
      "execution_count": 0,
      "outputs": [
        {
          "output_type": "execute_result",
          "data": {
            "text/html": [
              "<div>\n",
              "<style scoped>\n",
              "    .dataframe tbody tr th:only-of-type {\n",
              "        vertical-align: middle;\n",
              "    }\n",
              "\n",
              "    .dataframe tbody tr th {\n",
              "        vertical-align: top;\n",
              "    }\n",
              "\n",
              "    .dataframe thead th {\n",
              "        text-align: right;\n",
              "    }\n",
              "</style>\n",
              "<table border=\"1\" class=\"dataframe\">\n",
              "  <thead>\n",
              "    <tr style=\"text-align: right;\">\n",
              "      <th></th>\n",
              "      <th>Insolacao</th>\n",
              "      <th>Evaporacao Piche</th>\n",
              "      <th>Temp Comp Media</th>\n",
              "      <th>Umidade Relativa Media</th>\n",
              "      <th>Velocidade do Vento Media</th>\n",
              "      <th>Precipitacao</th>\n",
              "      <th>TempMinima</th>\n",
              "    </tr>\n",
              "    <tr>\n",
              "      <th>Data</th>\n",
              "      <th></th>\n",
              "      <th></th>\n",
              "      <th></th>\n",
              "      <th></th>\n",
              "      <th></th>\n",
              "      <th></th>\n",
              "      <th></th>\n",
              "    </tr>\n",
              "  </thead>\n",
              "  <tbody>\n",
              "    <tr>\n",
              "      <th>1986-01-01</th>\n",
              "      <td>8.7</td>\n",
              "      <td>2.5</td>\n",
              "      <td>25.96</td>\n",
              "      <td>82.25</td>\n",
              "      <td>1.466667</td>\n",
              "      <td>0.0</td>\n",
              "      <td>0.0</td>\n",
              "    </tr>\n",
              "    <tr>\n",
              "      <th>1986-01-02</th>\n",
              "      <td>5.8</td>\n",
              "      <td>2.1</td>\n",
              "      <td>26.34</td>\n",
              "      <td>81.00</td>\n",
              "      <td>1.133333</td>\n",
              "      <td>0.0</td>\n",
              "      <td>0.0</td>\n",
              "    </tr>\n",
              "    <tr>\n",
              "      <th>1986-01-03</th>\n",
              "      <td>9.0</td>\n",
              "      <td>2.9</td>\n",
              "      <td>27.16</td>\n",
              "      <td>80.50</td>\n",
              "      <td>2.033333</td>\n",
              "      <td>0.0</td>\n",
              "      <td>0.0</td>\n",
              "    </tr>\n",
              "    <tr>\n",
              "      <th>1986-01-04</th>\n",
              "      <td>0.0</td>\n",
              "      <td>4.1</td>\n",
              "      <td>24.66</td>\n",
              "      <td>93.75</td>\n",
              "      <td>1.633333</td>\n",
              "      <td>2.2</td>\n",
              "      <td>0.0</td>\n",
              "    </tr>\n",
              "    <tr>\n",
              "      <th>1986-01-05</th>\n",
              "      <td>6.3</td>\n",
              "      <td>0.3</td>\n",
              "      <td>25.94</td>\n",
              "      <td>84.75</td>\n",
              "      <td>1.633333</td>\n",
              "      <td>16.0</td>\n",
              "      <td>0.0</td>\n",
              "    </tr>\n",
              "  </tbody>\n",
              "</table>\n",
              "</div>"
            ],
            "text/plain": [
              "            Insolacao  Evaporacao Piche  ...  Precipitacao  TempMinima\n",
              "Data                                     ...                          \n",
              "1986-01-01        8.7               2.5  ...           0.0         0.0\n",
              "1986-01-02        5.8               2.1  ...           0.0         0.0\n",
              "1986-01-03        9.0               2.9  ...           0.0         0.0\n",
              "1986-01-04        0.0               4.1  ...           2.2         0.0\n",
              "1986-01-05        6.3               0.3  ...          16.0         0.0\n",
              "\n",
              "[5 rows x 7 columns]"
            ]
          },
          "metadata": {
            "tags": []
          },
          "execution_count": 113
        }
      ]
    },
    {
      "cell_type": "code",
      "metadata": {
        "id": "FqnSQA5k-kdr",
        "colab_type": "code",
        "colab": {}
      },
      "source": [
        "X_trainTempMax, X_testTempMax, Y_trainTempMax, Y_testTempMax = train_test_split(dataSet, tempMax, test_size = 0.1, random_state = 9)"
      ],
      "execution_count": 0,
      "outputs": []
    },
    {
      "cell_type": "code",
      "metadata": {
        "id": "2NcrJddJ-sWN",
        "colab_type": "code",
        "outputId": "cb131023-1099-43eb-90fc-15f1d83b8fc5",
        "colab": {
          "base_uri": "https://localhost:8080/",
          "height": 34
        }
      },
      "source": [
        "X_trainTempMax.shape"
      ],
      "execution_count": 0,
      "outputs": [
        {
          "output_type": "execute_result",
          "data": {
            "text/plain": [
              "(7654, 7)"
            ]
          },
          "metadata": {
            "tags": []
          },
          "execution_count": 116
        }
      ]
    },
    {
      "cell_type": "code",
      "metadata": {
        "id": "P0cqhB1_-zJR",
        "colab_type": "code",
        "colab": {}
      },
      "source": [
        "def trainMLP(optimizer='adam', init='random_uniform', units = 7, camadas = 2):    \n",
        "  #Criando o modelo\n",
        "  mlp = Sequential()\n",
        "  #Adicionando a camada de entrada\n",
        "  mlp.add(Dense(activation = 'tanh', input_dim = units, units = units, kernel_initializer = init, bias_initializer='zeros'))\n",
        "  #Adicionando as camadas escondidas\n",
        "  for i in range(camadas):\n",
        "    mlp.add(Dense(activation = 'tanh', units = units, kernel_initializer = init, bias_initializer='zeros'))\n",
        "  #Adicionando a camada de saída\n",
        "  mlp.add(Dense(units = 1, kernel_initializer = init, bias_initializer='zeros'))    \n",
        "  # Compilando o modelo\n",
        "  mlp.compile(loss='mean_squared_error', optimizer = optimizer, metrics= ['mae'])\n",
        "  return mlp"
      ],
      "execution_count": 0,
      "outputs": []
    },
    {
      "cell_type": "code",
      "metadata": {
        "id": "kupT3leo-_4G",
        "colab_type": "code",
        "outputId": "bdd60dbd-8e88-4ae7-c9b8-0afdc4b2583f",
        "colab": {
          "base_uri": "https://localhost:8080/",
          "height": 1000
        }
      },
      "source": [
        "mlp.fit(X_trainTempMax, Y_trainTempMax, epochs = 200)"
      ],
      "execution_count": 0,
      "outputs": [
        {
          "output_type": "stream",
          "text": [
            "W0822 20:18:13.230181 140583386294144 deprecation_wrapper.py:119] From /usr/local/lib/python3.6/dist-packages/keras/backend/tensorflow_backend.py:986: The name tf.assign_add is deprecated. Please use tf.compat.v1.assign_add instead.\n",
            "\n",
            "W0822 20:18:13.350272 140583386294144 deprecation_wrapper.py:119] From /usr/local/lib/python3.6/dist-packages/keras/backend/tensorflow_backend.py:973: The name tf.assign is deprecated. Please use tf.compat.v1.assign instead.\n",
            "\n"
          ],
          "name": "stderr"
        },
        {
          "output_type": "stream",
          "text": [
            "Epoch 1/200\n",
            "7654/7654 [==============================] - 1s 124us/step - loss: 775.6324 - mean_absolute_error: 27.7569\n",
            "Epoch 2/200\n",
            "7654/7654 [==============================] - 0s 40us/step - loss: 637.6816 - mean_absolute_error: 25.1577\n",
            "Epoch 3/200\n",
            "7654/7654 [==============================] - 0s 38us/step - loss: 539.7024 - mean_absolute_error: 23.1318\n",
            "Epoch 4/200\n",
            "7654/7654 [==============================] - 0s 41us/step - loss: 457.3459 - mean_absolute_error: 21.2782\n",
            "Epoch 5/200\n",
            "7654/7654 [==============================] - 0s 39us/step - loss: 385.9701 - mean_absolute_error: 19.5291\n",
            "Epoch 6/200\n",
            "7654/7654 [==============================] - 0s 38us/step - loss: 323.6450 - mean_absolute_error: 17.8633\n",
            "Epoch 7/200\n",
            "7654/7654 [==============================] - 0s 39us/step - loss: 269.2412 - mean_absolute_error: 16.2697\n",
            "Epoch 8/200\n",
            "7654/7654 [==============================] - 0s 40us/step - loss: 221.8992 - mean_absolute_error: 14.7426\n",
            "Epoch 9/200\n",
            "7654/7654 [==============================] - 0s 37us/step - loss: 180.9370 - mean_absolute_error: 13.2823\n",
            "Epoch 10/200\n",
            "7654/7654 [==============================] - 0s 36us/step - loss: 145.7909 - mean_absolute_error: 11.8848\n",
            "Epoch 11/200\n",
            "7654/7654 [==============================] - 0s 36us/step - loss: 115.9036 - mean_absolute_error: 10.5543\n",
            "Epoch 12/200\n",
            "7654/7654 [==============================] - 0s 36us/step - loss: 90.7980 - mean_absolute_error: 9.2910\n",
            "Epoch 13/200\n",
            "7654/7654 [==============================] - 0s 37us/step - loss: 69.9982 - mean_absolute_error: 8.0942\n",
            "Epoch 14/200\n",
            "7654/7654 [==============================] - 0s 38us/step - loss: 53.0679 - mean_absolute_error: 6.9745\n",
            "Epoch 15/200\n",
            "7654/7654 [==============================] - 0s 37us/step - loss: 39.5442 - mean_absolute_error: 5.9262\n",
            "Epoch 16/200\n",
            "7654/7654 [==============================] - 0s 44us/step - loss: 29.0075 - mean_absolute_error: 4.9662\n",
            "Epoch 17/200\n",
            "7654/7654 [==============================] - 0s 39us/step - loss: 21.0157 - mean_absolute_error: 4.1044\n",
            "Epoch 18/200\n",
            "7654/7654 [==============================] - 0s 45us/step - loss: 15.1596 - mean_absolute_error: 3.3732\n",
            "Epoch 19/200\n",
            "7654/7654 [==============================] - 0s 40us/step - loss: 11.0446 - mean_absolute_error: 2.7912\n",
            "Epoch 20/200\n",
            "7654/7654 [==============================] - 0s 42us/step - loss: 8.2777 - mean_absolute_error: 2.3734\n",
            "Epoch 21/200\n",
            "7654/7654 [==============================] - 0s 38us/step - loss: 6.5184 - mean_absolute_error: 2.0986\n",
            "Epoch 22/200\n",
            "7654/7654 [==============================] - 0s 42us/step - loss: 5.4624 - mean_absolute_error: 1.9412\n",
            "Epoch 23/200\n",
            "7654/7654 [==============================] - 0s 40us/step - loss: 4.8768 - mean_absolute_error: 1.8531\n",
            "Epoch 24/200\n",
            "7654/7654 [==============================] - 0s 39us/step - loss: 4.5787 - mean_absolute_error: 1.8055\n",
            "Epoch 25/200\n",
            "7654/7654 [==============================] - 0s 38us/step - loss: 4.4393 - mean_absolute_error: 1.7811\n",
            "Epoch 26/200\n",
            "7654/7654 [==============================] - 0s 40us/step - loss: 4.3807 - mean_absolute_error: 1.7690\n",
            "Epoch 27/200\n",
            "7654/7654 [==============================] - 0s 37us/step - loss: 4.3596 - mean_absolute_error: 1.7639\n",
            "Epoch 28/200\n",
            "7654/7654 [==============================] - 0s 37us/step - loss: 4.3536 - mean_absolute_error: 1.7615\n",
            "Epoch 29/200\n",
            "7654/7654 [==============================] - 0s 38us/step - loss: 4.3518 - mean_absolute_error: 1.7608\n",
            "Epoch 30/200\n",
            "7654/7654 [==============================] - 0s 39us/step - loss: 4.3513 - mean_absolute_error: 1.7599\n",
            "Epoch 31/200\n",
            "7654/7654 [==============================] - 0s 39us/step - loss: 4.3514 - mean_absolute_error: 1.7597\n",
            "Epoch 32/200\n",
            "7654/7654 [==============================] - 0s 40us/step - loss: 4.3512 - mean_absolute_error: 1.7599\n",
            "Epoch 33/200\n",
            "7654/7654 [==============================] - 0s 39us/step - loss: 4.3513 - mean_absolute_error: 1.7595\n",
            "Epoch 34/200\n",
            "7654/7654 [==============================] - 0s 39us/step - loss: 4.3514 - mean_absolute_error: 1.7592\n",
            "Epoch 35/200\n",
            "7654/7654 [==============================] - 0s 38us/step - loss: 4.3519 - mean_absolute_error: 1.7596\n",
            "Epoch 36/200\n",
            "7654/7654 [==============================] - 0s 36us/step - loss: 4.3517 - mean_absolute_error: 1.7593\n",
            "Epoch 37/200\n",
            "7654/7654 [==============================] - 0s 40us/step - loss: 4.3516 - mean_absolute_error: 1.7596\n",
            "Epoch 38/200\n",
            "7654/7654 [==============================] - 0s 43us/step - loss: 4.3520 - mean_absolute_error: 1.7597\n",
            "Epoch 39/200\n",
            "7654/7654 [==============================] - 0s 43us/step - loss: 4.3521 - mean_absolute_error: 1.7596\n",
            "Epoch 40/200\n",
            "7654/7654 [==============================] - 0s 45us/step - loss: 4.3519 - mean_absolute_error: 1.7598\n",
            "Epoch 41/200\n",
            "7654/7654 [==============================] - 0s 40us/step - loss: 4.3522 - mean_absolute_error: 1.7596\n",
            "Epoch 42/200\n",
            "7654/7654 [==============================] - 0s 40us/step - loss: 4.3523 - mean_absolute_error: 1.7599\n",
            "Epoch 43/200\n",
            "7654/7654 [==============================] - 0s 41us/step - loss: 4.3520 - mean_absolute_error: 1.7596\n",
            "Epoch 44/200\n",
            "7654/7654 [==============================] - 0s 39us/step - loss: 4.3499 - mean_absolute_error: 1.7590\n",
            "Epoch 45/200\n",
            "7654/7654 [==============================] - 0s 40us/step - loss: 4.3488 - mean_absolute_error: 1.7585\n",
            "Epoch 46/200\n",
            "7654/7654 [==============================] - 0s 40us/step - loss: 4.3496 - mean_absolute_error: 1.7593\n",
            "Epoch 47/200\n",
            "7654/7654 [==============================] - 0s 39us/step - loss: 3.3022 - mean_absolute_error: 1.4985\n",
            "Epoch 48/200\n",
            "7654/7654 [==============================] - 0s 40us/step - loss: 2.3563 - mean_absolute_error: 1.2118\n",
            "Epoch 49/200\n",
            "7654/7654 [==============================] - 0s 39us/step - loss: 2.1464 - mean_absolute_error: 1.1439\n",
            "Epoch 50/200\n",
            "7654/7654 [==============================] - 0s 40us/step - loss: 2.0414 - mean_absolute_error: 1.1096\n",
            "Epoch 51/200\n",
            "7654/7654 [==============================] - 0s 38us/step - loss: 1.9760 - mean_absolute_error: 1.0902\n",
            "Epoch 52/200\n",
            "7654/7654 [==============================] - 0s 38us/step - loss: 1.9092 - mean_absolute_error: 1.0652\n",
            "Epoch 53/200\n",
            "7654/7654 [==============================] - 0s 38us/step - loss: 1.8738 - mean_absolute_error: 1.0552\n",
            "Epoch 54/200\n",
            "7654/7654 [==============================] - 0s 39us/step - loss: 1.8214 - mean_absolute_error: 1.0398\n",
            "Epoch 55/200\n",
            "7654/7654 [==============================] - 0s 39us/step - loss: 1.8115 - mean_absolute_error: 1.0370\n",
            "Epoch 56/200\n",
            "7654/7654 [==============================] - 0s 42us/step - loss: 1.7806 - mean_absolute_error: 1.0249\n",
            "Epoch 57/200\n",
            "7654/7654 [==============================] - 0s 40us/step - loss: 1.7455 - mean_absolute_error: 1.0190\n",
            "Epoch 58/200\n",
            "7654/7654 [==============================] - 0s 40us/step - loss: 1.7030 - mean_absolute_error: 1.0081\n",
            "Epoch 59/200\n",
            "7654/7654 [==============================] - 0s 40us/step - loss: 1.6501 - mean_absolute_error: 0.9907\n",
            "Epoch 60/200\n",
            "7654/7654 [==============================] - 0s 40us/step - loss: 1.6344 - mean_absolute_error: 0.9918\n",
            "Epoch 61/200\n",
            "7654/7654 [==============================] - 0s 40us/step - loss: 1.6004 - mean_absolute_error: 0.9766\n",
            "Epoch 62/200\n",
            "7654/7654 [==============================] - 0s 38us/step - loss: 1.6004 - mean_absolute_error: 0.9772\n",
            "Epoch 63/200\n",
            "7654/7654 [==============================] - 0s 41us/step - loss: 1.6116 - mean_absolute_error: 0.9820\n",
            "Epoch 64/200\n",
            "7654/7654 [==============================] - 0s 39us/step - loss: 1.5877 - mean_absolute_error: 0.9716\n",
            "Epoch 65/200\n",
            "7654/7654 [==============================] - 0s 38us/step - loss: 1.5470 - mean_absolute_error: 0.9641\n",
            "Epoch 66/200\n",
            "7654/7654 [==============================] - 0s 38us/step - loss: 1.5769 - mean_absolute_error: 0.9683\n",
            "Epoch 67/200\n",
            "7654/7654 [==============================] - 0s 38us/step - loss: 1.5556 - mean_absolute_error: 0.9669\n",
            "Epoch 68/200\n",
            "7654/7654 [==============================] - 0s 39us/step - loss: 1.5502 - mean_absolute_error: 0.9674\n",
            "Epoch 69/200\n",
            "7654/7654 [==============================] - 0s 42us/step - loss: 1.5210 - mean_absolute_error: 0.9567\n",
            "Epoch 70/200\n",
            "7654/7654 [==============================] - 0s 39us/step - loss: 1.5148 - mean_absolute_error: 0.9561\n",
            "Epoch 71/200\n",
            "7654/7654 [==============================] - 0s 40us/step - loss: 1.5146 - mean_absolute_error: 0.9568\n",
            "Epoch 72/200\n",
            "7654/7654 [==============================] - 0s 43us/step - loss: 1.4757 - mean_absolute_error: 0.9383\n",
            "Epoch 73/200\n",
            "7654/7654 [==============================] - 0s 40us/step - loss: 1.4543 - mean_absolute_error: 0.9349\n",
            "Epoch 74/200\n",
            "7654/7654 [==============================] - 0s 41us/step - loss: 1.4602 - mean_absolute_error: 0.9354\n",
            "Epoch 75/200\n",
            "7654/7654 [==============================] - 0s 39us/step - loss: 1.4308 - mean_absolute_error: 0.9261\n",
            "Epoch 76/200\n",
            "7654/7654 [==============================] - 0s 38us/step - loss: 1.4308 - mean_absolute_error: 0.9241\n",
            "Epoch 77/200\n",
            "7654/7654 [==============================] - 0s 38us/step - loss: 1.3749 - mean_absolute_error: 0.9056\n",
            "Epoch 78/200\n",
            "7654/7654 [==============================] - 0s 39us/step - loss: 1.3783 - mean_absolute_error: 0.9063\n",
            "Epoch 79/200\n",
            "7654/7654 [==============================] - 0s 43us/step - loss: 1.3933 - mean_absolute_error: 0.9114\n",
            "Epoch 80/200\n",
            "7654/7654 [==============================] - 0s 38us/step - loss: 1.3049 - mean_absolute_error: 0.8846\n",
            "Epoch 81/200\n",
            "7654/7654 [==============================] - 0s 40us/step - loss: 1.3205 - mean_absolute_error: 0.8855\n",
            "Epoch 82/200\n",
            "7654/7654 [==============================] - 0s 44us/step - loss: 1.3572 - mean_absolute_error: 0.9016\n",
            "Epoch 83/200\n",
            "7654/7654 [==============================] - 0s 39us/step - loss: 1.2812 - mean_absolute_error: 0.8783\n",
            "Epoch 84/200\n",
            "7654/7654 [==============================] - 0s 42us/step - loss: 1.2740 - mean_absolute_error: 0.8735\n",
            "Epoch 85/200\n",
            "7654/7654 [==============================] - 0s 46us/step - loss: 1.2847 - mean_absolute_error: 0.8777\n",
            "Epoch 86/200\n",
            "7654/7654 [==============================] - 0s 42us/step - loss: 1.2215 - mean_absolute_error: 0.8553\n",
            "Epoch 87/200\n",
            "7654/7654 [==============================] - 0s 39us/step - loss: 1.2021 - mean_absolute_error: 0.8520\n",
            "Epoch 88/200\n",
            "7654/7654 [==============================] - 0s 43us/step - loss: 1.1905 - mean_absolute_error: 0.8430\n",
            "Epoch 89/200\n",
            "7654/7654 [==============================] - 0s 41us/step - loss: 1.2303 - mean_absolute_error: 0.8627\n",
            "Epoch 90/200\n",
            "7654/7654 [==============================] - 0s 36us/step - loss: 1.1502 - mean_absolute_error: 0.8282\n",
            "Epoch 91/200\n",
            "7654/7654 [==============================] - 0s 39us/step - loss: 1.1750 - mean_absolute_error: 0.8380\n",
            "Epoch 92/200\n",
            "7654/7654 [==============================] - 0s 39us/step - loss: 1.1425 - mean_absolute_error: 0.8274\n",
            "Epoch 93/200\n",
            "7654/7654 [==============================] - 0s 42us/step - loss: 1.1030 - mean_absolute_error: 0.8121\n",
            "Epoch 94/200\n",
            "7654/7654 [==============================] - 0s 40us/step - loss: 1.1243 - mean_absolute_error: 0.8120\n",
            "Epoch 95/200\n",
            "7654/7654 [==============================] - 0s 44us/step - loss: 1.0981 - mean_absolute_error: 0.8116\n",
            "Epoch 96/200\n",
            "7654/7654 [==============================] - 0s 39us/step - loss: 1.0694 - mean_absolute_error: 0.7967\n",
            "Epoch 97/200\n",
            "7654/7654 [==============================] - 0s 41us/step - loss: 1.0694 - mean_absolute_error: 0.7976\n",
            "Epoch 98/200\n",
            "7654/7654 [==============================] - 0s 39us/step - loss: 1.0338 - mean_absolute_error: 0.7838\n",
            "Epoch 99/200\n",
            "7654/7654 [==============================] - 0s 39us/step - loss: 1.0344 - mean_absolute_error: 0.7804\n",
            "Epoch 100/200\n",
            "7654/7654 [==============================] - 0s 39us/step - loss: 1.0326 - mean_absolute_error: 0.7827\n",
            "Epoch 101/200\n",
            "7654/7654 [==============================] - 0s 39us/step - loss: 0.9821 - mean_absolute_error: 0.7604\n",
            "Epoch 102/200\n",
            "7654/7654 [==============================] - 0s 40us/step - loss: 1.1577 - mean_absolute_error: 0.8171\n",
            "Epoch 103/200\n",
            "7654/7654 [==============================] - 0s 39us/step - loss: 1.0135 - mean_absolute_error: 0.7740\n",
            "Epoch 104/200\n",
            "7654/7654 [==============================] - 0s 40us/step - loss: 0.9232 - mean_absolute_error: 0.7336\n",
            "Epoch 105/200\n",
            "7654/7654 [==============================] - 0s 40us/step - loss: 0.9821 - mean_absolute_error: 0.7610\n",
            "Epoch 106/200\n",
            "7654/7654 [==============================] - 0s 39us/step - loss: 0.9966 - mean_absolute_error: 0.7628\n",
            "Epoch 107/200\n",
            "7654/7654 [==============================] - 0s 41us/step - loss: 0.9479 - mean_absolute_error: 0.7474\n",
            "Epoch 108/200\n",
            "7654/7654 [==============================] - 0s 39us/step - loss: 0.9104 - mean_absolute_error: 0.7305\n",
            "Epoch 109/200\n",
            "7654/7654 [==============================] - 0s 39us/step - loss: 0.8914 - mean_absolute_error: 0.7256\n",
            "Epoch 110/200\n",
            "7654/7654 [==============================] - 0s 39us/step - loss: 0.9297 - mean_absolute_error: 0.7415\n",
            "Epoch 111/200\n",
            "7654/7654 [==============================] - 0s 38us/step - loss: 0.8819 - mean_absolute_error: 0.7250\n",
            "Epoch 112/200\n",
            "7654/7654 [==============================] - 0s 40us/step - loss: 0.8813 - mean_absolute_error: 0.7215\n",
            "Epoch 113/200\n",
            "7654/7654 [==============================] - 0s 39us/step - loss: 0.8759 - mean_absolute_error: 0.7187\n",
            "Epoch 114/200\n",
            "7654/7654 [==============================] - 0s 43us/step - loss: 1.2849 - mean_absolute_error: 0.8444\n",
            "Epoch 115/200\n",
            "7654/7654 [==============================] - 0s 39us/step - loss: 0.8601 - mean_absolute_error: 0.7033\n",
            "Epoch 116/200\n",
            "7654/7654 [==============================] - 0s 40us/step - loss: 0.9359 - mean_absolute_error: 0.7382\n",
            "Epoch 117/200\n",
            "7654/7654 [==============================] - 0s 43us/step - loss: 0.8789 - mean_absolute_error: 0.7208\n",
            "Epoch 118/200\n",
            "7654/7654 [==============================] - 0s 39us/step - loss: 0.8270 - mean_absolute_error: 0.6958\n",
            "Epoch 119/200\n",
            "7654/7654 [==============================] - 0s 38us/step - loss: 0.8503 - mean_absolute_error: 0.7084\n",
            "Epoch 120/200\n",
            "7654/7654 [==============================] - 0s 42us/step - loss: 0.8606 - mean_absolute_error: 0.7167\n",
            "Epoch 121/200\n",
            "7654/7654 [==============================] - 0s 43us/step - loss: 0.8535 - mean_absolute_error: 0.7050\n",
            "Epoch 122/200\n",
            "7654/7654 [==============================] - 0s 38us/step - loss: 0.7963 - mean_absolute_error: 0.6828\n",
            "Epoch 123/200\n",
            "7654/7654 [==============================] - 0s 39us/step - loss: 0.7676 - mean_absolute_error: 0.6694\n",
            "Epoch 124/200\n",
            "7654/7654 [==============================] - 0s 38us/step - loss: 0.8794 - mean_absolute_error: 0.7190\n",
            "Epoch 125/200\n",
            "7654/7654 [==============================] - 0s 43us/step - loss: 0.8514 - mean_absolute_error: 0.7061\n",
            "Epoch 126/200\n",
            "7654/7654 [==============================] - 0s 40us/step - loss: 0.8424 - mean_absolute_error: 0.6857\n",
            "Epoch 127/200\n",
            "7654/7654 [==============================] - 0s 39us/step - loss: 0.8626 - mean_absolute_error: 0.7119\n",
            "Epoch 128/200\n",
            "7654/7654 [==============================] - 0s 40us/step - loss: 0.8366 - mean_absolute_error: 0.6986\n",
            "Epoch 129/200\n",
            "7654/7654 [==============================] - 0s 38us/step - loss: 0.7815 - mean_absolute_error: 0.6738\n",
            "Epoch 130/200\n",
            "7654/7654 [==============================] - 0s 41us/step - loss: 1.0815 - mean_absolute_error: 0.7738\n",
            "Epoch 131/200\n",
            "7654/7654 [==============================] - 0s 39us/step - loss: 0.8029 - mean_absolute_error: 0.6791\n",
            "Epoch 132/200\n",
            "7654/7654 [==============================] - 0s 39us/step - loss: 0.8153 - mean_absolute_error: 0.6894\n",
            "Epoch 133/200\n",
            "7654/7654 [==============================] - 0s 40us/step - loss: 0.8209 - mean_absolute_error: 0.6868\n",
            "Epoch 134/200\n",
            "7654/7654 [==============================] - 0s 43us/step - loss: 0.7253 - mean_absolute_error: 0.6513\n",
            "Epoch 135/200\n",
            "7654/7654 [==============================] - 0s 40us/step - loss: 0.8062 - mean_absolute_error: 0.6912\n",
            "Epoch 136/200\n",
            "7654/7654 [==============================] - 0s 40us/step - loss: 1.2054 - mean_absolute_error: 0.8029\n",
            "Epoch 137/200\n",
            "7654/7654 [==============================] - 0s 39us/step - loss: 0.8379 - mean_absolute_error: 0.6878\n",
            "Epoch 138/200\n",
            "7654/7654 [==============================] - 0s 40us/step - loss: 0.8591 - mean_absolute_error: 0.7040\n",
            "Epoch 139/200\n",
            "7654/7654 [==============================] - 0s 39us/step - loss: 0.7785 - mean_absolute_error: 0.6739\n",
            "Epoch 140/200\n",
            "7654/7654 [==============================] - 0s 39us/step - loss: 0.8286 - mean_absolute_error: 0.6813\n",
            "Epoch 141/200\n",
            "7654/7654 [==============================] - 0s 38us/step - loss: 0.7777 - mean_absolute_error: 0.6708\n",
            "Epoch 142/200\n",
            "7654/7654 [==============================] - 0s 37us/step - loss: 0.7548 - mean_absolute_error: 0.6622\n",
            "Epoch 143/200\n",
            "7654/7654 [==============================] - 0s 39us/step - loss: 0.7667 - mean_absolute_error: 0.6737\n",
            "Epoch 144/200\n",
            "7654/7654 [==============================] - 0s 42us/step - loss: 0.7324 - mean_absolute_error: 0.6539\n",
            "Epoch 145/200\n",
            "7654/7654 [==============================] - 0s 38us/step - loss: 0.7632 - mean_absolute_error: 0.6643\n",
            "Epoch 146/200\n",
            "7654/7654 [==============================] - 0s 38us/step - loss: 0.7283 - mean_absolute_error: 0.6520\n",
            "Epoch 147/200\n",
            "7654/7654 [==============================] - 0s 39us/step - loss: 0.9476 - mean_absolute_error: 0.7154\n",
            "Epoch 148/200\n",
            "7654/7654 [==============================] - 0s 38us/step - loss: 0.7520 - mean_absolute_error: 0.6612\n",
            "Epoch 149/200\n",
            "7654/7654 [==============================] - 0s 38us/step - loss: 0.7249 - mean_absolute_error: 0.6472\n",
            "Epoch 150/200\n",
            "7654/7654 [==============================] - 0s 41us/step - loss: 1.0119 - mean_absolute_error: 0.7336\n",
            "Epoch 151/200\n",
            "7654/7654 [==============================] - 0s 38us/step - loss: 0.8639 - mean_absolute_error: 0.6975\n",
            "Epoch 152/200\n",
            "7654/7654 [==============================] - 0s 38us/step - loss: 0.7276 - mean_absolute_error: 0.6464\n",
            "Epoch 153/200\n",
            "7654/7654 [==============================] - 0s 39us/step - loss: 0.7092 - mean_absolute_error: 0.6418\n",
            "Epoch 154/200\n",
            "7654/7654 [==============================] - 0s 46us/step - loss: 0.7162 - mean_absolute_error: 0.6498\n",
            "Epoch 155/200\n",
            "7654/7654 [==============================] - 0s 40us/step - loss: 0.7233 - mean_absolute_error: 0.6485\n",
            "Epoch 156/200\n",
            "7654/7654 [==============================] - 0s 44us/step - loss: 0.9914 - mean_absolute_error: 0.7364\n",
            "Epoch 157/200\n",
            "7654/7654 [==============================] - 0s 42us/step - loss: 0.7353 - mean_absolute_error: 0.6453\n",
            "Epoch 158/200\n",
            "7654/7654 [==============================] - 0s 40us/step - loss: 0.8827 - mean_absolute_error: 0.6900\n",
            "Epoch 159/200\n",
            "7654/7654 [==============================] - 0s 42us/step - loss: 0.6980 - mean_absolute_error: 0.6364\n",
            "Epoch 160/200\n",
            "7654/7654 [==============================] - 0s 41us/step - loss: 0.7023 - mean_absolute_error: 0.6316\n",
            "Epoch 161/200\n",
            "7654/7654 [==============================] - 0s 40us/step - loss: 0.7390 - mean_absolute_error: 0.6591\n",
            "Epoch 162/200\n",
            "7654/7654 [==============================] - 0s 43us/step - loss: 0.7707 - mean_absolute_error: 0.6742\n",
            "Epoch 163/200\n",
            "7654/7654 [==============================] - 0s 42us/step - loss: 0.8424 - mean_absolute_error: 0.6831\n",
            "Epoch 164/200\n",
            "7654/7654 [==============================] - 0s 38us/step - loss: 0.7056 - mean_absolute_error: 0.6339\n",
            "Epoch 165/200\n",
            "7654/7654 [==============================] - 0s 39us/step - loss: 0.7547 - mean_absolute_error: 0.6579\n",
            "Epoch 166/200\n",
            "7654/7654 [==============================] - 0s 40us/step - loss: 0.7951 - mean_absolute_error: 0.6753\n",
            "Epoch 167/200\n",
            "7654/7654 [==============================] - 0s 38us/step - loss: 0.7082 - mean_absolute_error: 0.6415\n",
            "Epoch 168/200\n",
            "7654/7654 [==============================] - 0s 39us/step - loss: 0.6752 - mean_absolute_error: 0.6246\n",
            "Epoch 169/200\n",
            "7654/7654 [==============================] - 0s 40us/step - loss: 0.7865 - mean_absolute_error: 0.6691\n",
            "Epoch 170/200\n",
            "7654/7654 [==============================] - 0s 40us/step - loss: 0.7498 - mean_absolute_error: 0.6654\n",
            "Epoch 171/200\n",
            "7654/7654 [==============================] - 0s 38us/step - loss: 0.6830 - mean_absolute_error: 0.6268\n",
            "Epoch 172/200\n",
            "7654/7654 [==============================] - 0s 40us/step - loss: 0.6568 - mean_absolute_error: 0.6148\n",
            "Epoch 173/200\n",
            "7654/7654 [==============================] - 0s 41us/step - loss: 0.7516 - mean_absolute_error: 0.6672\n",
            "Epoch 174/200\n",
            "7654/7654 [==============================] - 0s 40us/step - loss: 0.6917 - mean_absolute_error: 0.6351\n",
            "Epoch 175/200\n",
            "7654/7654 [==============================] - 0s 40us/step - loss: 1.0171 - mean_absolute_error: 0.7106\n",
            "Epoch 176/200\n",
            "7654/7654 [==============================] - 0s 43us/step - loss: 0.9394 - mean_absolute_error: 0.7308\n",
            "Epoch 177/200\n",
            "7654/7654 [==============================] - 0s 39us/step - loss: 0.7176 - mean_absolute_error: 0.6426\n",
            "Epoch 178/200\n",
            "7654/7654 [==============================] - 0s 39us/step - loss: 0.6888 - mean_absolute_error: 0.6280\n",
            "Epoch 179/200\n",
            "7654/7654 [==============================] - 0s 40us/step - loss: 0.6920 - mean_absolute_error: 0.6316\n",
            "Epoch 180/200\n",
            "7654/7654 [==============================] - 0s 37us/step - loss: 0.8238 - mean_absolute_error: 0.6639\n",
            "Epoch 181/200\n",
            "7654/7654 [==============================] - 0s 37us/step - loss: 0.7103 - mean_absolute_error: 0.6389\n",
            "Epoch 182/200\n",
            "7654/7654 [==============================] - 0s 43us/step - loss: 0.7330 - mean_absolute_error: 0.6460\n",
            "Epoch 183/200\n",
            "7654/7654 [==============================] - 0s 38us/step - loss: 0.7221 - mean_absolute_error: 0.6415\n",
            "Epoch 184/200\n",
            "7654/7654 [==============================] - 0s 40us/step - loss: 0.6854 - mean_absolute_error: 0.6292\n",
            "Epoch 185/200\n",
            "7654/7654 [==============================] - 0s 40us/step - loss: 0.7304 - mean_absolute_error: 0.6522\n",
            "Epoch 186/200\n",
            "7654/7654 [==============================] - 0s 41us/step - loss: 0.6599 - mean_absolute_error: 0.6232\n",
            "Epoch 187/200\n",
            "7654/7654 [==============================] - 0s 39us/step - loss: 0.8230 - mean_absolute_error: 0.6863\n",
            "Epoch 188/200\n",
            "7654/7654 [==============================] - 0s 39us/step - loss: 0.6676 - mean_absolute_error: 0.6228\n",
            "Epoch 189/200\n",
            "7654/7654 [==============================] - 0s 43us/step - loss: 0.6964 - mean_absolute_error: 0.6385\n",
            "Epoch 190/200\n",
            "7654/7654 [==============================] - 0s 38us/step - loss: 0.6672 - mean_absolute_error: 0.6233\n",
            "Epoch 191/200\n",
            "7654/7654 [==============================] - 0s 37us/step - loss: 0.6712 - mean_absolute_error: 0.6213\n",
            "Epoch 192/200\n",
            "7654/7654 [==============================] - 0s 39us/step - loss: 0.7538 - mean_absolute_error: 0.6616\n",
            "Epoch 193/200\n",
            "7654/7654 [==============================] - 0s 39us/step - loss: 0.6833 - mean_absolute_error: 0.6261\n",
            "Epoch 194/200\n",
            "7654/7654 [==============================] - 0s 37us/step - loss: 0.6948 - mean_absolute_error: 0.6361\n",
            "Epoch 195/200\n",
            "7654/7654 [==============================] - 0s 39us/step - loss: 0.6507 - mean_absolute_error: 0.6100\n",
            "Epoch 196/200\n",
            "7654/7654 [==============================] - 0s 40us/step - loss: 1.1168 - mean_absolute_error: 0.7577\n",
            "Epoch 197/200\n",
            "7654/7654 [==============================] - 0s 43us/step - loss: 0.8267 - mean_absolute_error: 0.6889\n",
            "Epoch 198/200\n",
            "7654/7654 [==============================] - 0s 41us/step - loss: 0.7040 - mean_absolute_error: 0.6370\n",
            "Epoch 199/200\n",
            "7654/7654 [==============================] - 0s 39us/step - loss: 0.7922 - mean_absolute_error: 0.6594\n",
            "Epoch 200/200\n",
            "7654/7654 [==============================] - 0s 39us/step - loss: 0.6800 - mean_absolute_error: 0.6240\n"
          ],
          "name": "stdout"
        },
        {
          "output_type": "execute_result",
          "data": {
            "text/plain": [
              "<keras.callbacks.History at 0x7fdbdc620908>"
            ]
          },
          "metadata": {
            "tags": []
          },
          "execution_count": 119
        }
      ]
    },
    {
      "cell_type": "code",
      "metadata": {
        "id": "UHOeK1uh_Z-Q",
        "colab_type": "code",
        "colab": {}
      },
      "source": [
        "import matplotlib.pyplot as plt"
      ],
      "execution_count": 0,
      "outputs": []
    },
    {
      "cell_type": "code",
      "metadata": {
        "id": "kjSSf99H_fO-",
        "colab_type": "code",
        "outputId": "9e8ea05f-f670-40e3-d505-10b5be98a3eb",
        "colab": {
          "base_uri": "https://localhost:8080/",
          "height": 286
        }
      },
      "source": [
        "plt.scatter(Y_testTempMax, mlp.predict(X_testTempMax))"
      ],
      "execution_count": 0,
      "outputs": [
        {
          "output_type": "execute_result",
          "data": {
            "text/plain": [
              "<matplotlib.collections.PathCollection at 0x7fdbd6cd10f0>"
            ]
          },
          "metadata": {
            "tags": []
          },
          "execution_count": 121
        },
        {
          "output_type": "display_data",
          "data": {
            "image/png": "[encoded data removed]",
            "text/plain": [
              "<Figure size 432x288 with 1 Axes>"
            ]
          },
          "metadata": {
            "tags": []
          }
        }
      ]
    },
    {
      "cell_type": "code",
      "metadata": {
        "id": "EkA4apfv_j7g",
        "colab_type": "code",
        "colab": {}
      },
      "source": [
        "tempMaxDefinitiva = dataSetProv[\"TempMaxima\"]\n",
        "dataSetProv = dataSetProv.drop(columns = \"TempMaxima\")"
      ],
      "execution_count": 0,
      "outputs": []
    },
    {
      "cell_type": "code",
      "metadata": {
        "id": "93l-E2eR_vkX",
        "colab_type": "code",
        "outputId": "cf6e4d2e-687d-4b99-d774-82324e8766d5",
        "colab": {
          "base_uri": "https://localhost:8080/",
          "height": 312
        }
      },
      "source": [
        "dataSetDefinitivo = mms.transform(dataSetProv)"
      ],
      "execution_count": 0,
      "outputs": [
        {
          "output_type": "error",
          "ename": "NotFittedError",
          "evalue": "ignored",
          "traceback": [
            "\u001b[0;31m---------------------------------------------------------------------------\u001b[0m",
            "\u001b[0;31mNotFittedError\u001b[0m                            Traceback (most recent call last)",
            "\u001b[0;32m<ipython-input-123-32ec91fb7545>\u001b[0m in \u001b[0;36m<module>\u001b[0;34m()\u001b[0m\n\u001b[0;32m----> 1\u001b[0;31m \u001b[0mdataSetDefinitivo\u001b[0m \u001b[0;34m=\u001b[0m \u001b[0mmms\u001b[0m\u001b[0;34m.\u001b[0m\u001b[0mtransform\u001b[0m\u001b[0;34m(\u001b[0m\u001b[0mdataSetProv\u001b[0m\u001b[0;34m)\u001b[0m\u001b[0;34m\u001b[0m\u001b[0;34m\u001b[0m\u001b[0m\n\u001b[0m",
            "\u001b[0;32m/usr/local/lib/python3.6/dist-packages/sklearn/preprocessing/data.py\u001b[0m in \u001b[0;36mtransform\u001b[0;34m(self, X)\u001b[0m\n\u001b[1;32m    382\u001b[0m             \u001b[0mInput\u001b[0m \u001b[0mdata\u001b[0m \u001b[0mthat\u001b[0m \u001b[0mwill\u001b[0m \u001b[0mbe\u001b[0m \u001b[0mtransformed\u001b[0m\u001b[0;34m.\u001b[0m\u001b[0;34m\u001b[0m\u001b[0;34m\u001b[0m\u001b[0m\n\u001b[1;32m    383\u001b[0m         \"\"\"\n\u001b[0;32m--> 384\u001b[0;31m         \u001b[0mcheck_is_fitted\u001b[0m\u001b[0;34m(\u001b[0m\u001b[0mself\u001b[0m\u001b[0;34m,\u001b[0m \u001b[0;34m'scale_'\u001b[0m\u001b[0;34m)\u001b[0m\u001b[0;34m\u001b[0m\u001b[0;34m\u001b[0m\u001b[0m\n\u001b[0m\u001b[1;32m    385\u001b[0m \u001b[0;34m\u001b[0m\u001b[0m\n\u001b[1;32m    386\u001b[0m         X = check_array(X, copy=self.copy, dtype=FLOAT_DTYPES,\n",
            "\u001b[0;32m/usr/local/lib/python3.6/dist-packages/sklearn/utils/validation.py\u001b[0m in \u001b[0;36mcheck_is_fitted\u001b[0;34m(estimator, attributes, msg, all_or_any)\u001b[0m\n\u001b[1;32m    912\u001b[0m \u001b[0;34m\u001b[0m\u001b[0m\n\u001b[1;32m    913\u001b[0m     \u001b[0;32mif\u001b[0m \u001b[0;32mnot\u001b[0m \u001b[0mall_or_any\u001b[0m\u001b[0;34m(\u001b[0m\u001b[0;34m[\u001b[0m\u001b[0mhasattr\u001b[0m\u001b[0;34m(\u001b[0m\u001b[0mestimator\u001b[0m\u001b[0;34m,\u001b[0m \u001b[0mattr\u001b[0m\u001b[0;34m)\u001b[0m \u001b[0;32mfor\u001b[0m \u001b[0mattr\u001b[0m \u001b[0;32min\u001b[0m \u001b[0mattributes\u001b[0m\u001b[0;34m]\u001b[0m\u001b[0;34m)\u001b[0m\u001b[0;34m:\u001b[0m\u001b[0;34m\u001b[0m\u001b[0;34m\u001b[0m\u001b[0m\n\u001b[0;32m--> 914\u001b[0;31m         \u001b[0;32mraise\u001b[0m \u001b[0mNotFittedError\u001b[0m\u001b[0;34m(\u001b[0m\u001b[0mmsg\u001b[0m \u001b[0;34m%\u001b[0m \u001b[0;34m{\u001b[0m\u001b[0;34m'name'\u001b[0m\u001b[0;34m:\u001b[0m \u001b[0mtype\u001b[0m\u001b[0;34m(\u001b[0m\u001b[0mestimator\u001b[0m\u001b[0;34m)\u001b[0m\u001b[0;34m.\u001b[0m\u001b[0m__name__\u001b[0m\u001b[0;34m}\u001b[0m\u001b[0;34m)\u001b[0m\u001b[0;34m\u001b[0m\u001b[0;34m\u001b[0m\u001b[0m\n\u001b[0m\u001b[1;32m    915\u001b[0m \u001b[0;34m\u001b[0m\u001b[0m\n\u001b[1;32m    916\u001b[0m \u001b[0;34m\u001b[0m\u001b[0m\n",
            "\u001b[0;31mNotFittedError\u001b[0m: This MinMaxScaler instance is not fitted yet. Call 'fit' with appropriate arguments before using this method."
          ]
        }
      ]
    },
    {
      "cell_type": "code",
      "metadata": {
        "id": "HyNKVU7P_8Ox",
        "colab_type": "code",
        "colab": {}
      },
      "source": [
        "prov = pd.DataFrame(index = pd.date_range(start='1/1/1981', end='31/12/2010'))"
      ],
      "execution_count": 0,
      "outputs": []
    },
    {
      "cell_type": "code",
      "metadata": {
        "id": "CXcILomfAFXc",
        "colab_type": "code",
        "colab": {}
      },
      "source": [
        "prov[\"TempMaxInmet\"] = tempMaxDefinitiva"
      ],
      "execution_count": 0,
      "outputs": []
    },
    {
      "cell_type": "code",
      "metadata": {
        "id": "KiFhT1O4AKhw",
        "colab_type": "code",
        "outputId": "d64110c4-6aae-4027-e675-708a74d11bea",
        "colab": {
          "base_uri": "https://localhost:8080/",
          "height": 206
        }
      },
      "source": [
        "prov.head()"
      ],
      "execution_count": 0,
      "outputs": [
        {
          "output_type": "execute_result",
          "data": {
            "text/html": [
              "<div>\n",
              "<style scoped>\n",
              "    .dataframe tbody tr th:only-of-type {\n",
              "        vertical-align: middle;\n",
              "    }\n",
              "\n",
              "    .dataframe tbody tr th {\n",
              "        vertical-align: top;\n",
              "    }\n",
              "\n",
              "    .dataframe thead th {\n",
              "        text-align: right;\n",
              "    }\n",
              "</style>\n",
              "<table border=\"1\" class=\"dataframe\">\n",
              "  <thead>\n",
              "    <tr style=\"text-align: right;\">\n",
              "      <th></th>\n",
              "      <th>TempMaxInmet</th>\n",
              "    </tr>\n",
              "  </thead>\n",
              "  <tbody>\n",
              "    <tr>\n",
              "      <th>1981-01-01</th>\n",
              "      <td>NaN</td>\n",
              "    </tr>\n",
              "    <tr>\n",
              "      <th>1981-01-02</th>\n",
              "      <td>NaN</td>\n",
              "    </tr>\n",
              "    <tr>\n",
              "      <th>1981-01-03</th>\n",
              "      <td>NaN</td>\n",
              "    </tr>\n",
              "    <tr>\n",
              "      <th>1981-01-04</th>\n",
              "      <td>NaN</td>\n",
              "    </tr>\n",
              "    <tr>\n",
              "      <th>1981-01-05</th>\n",
              "      <td>NaN</td>\n",
              "    </tr>\n",
              "  </tbody>\n",
              "</table>\n",
              "</div>"
            ],
            "text/plain": [
              "            TempMaxInmet\n",
              "1981-01-01           NaN\n",
              "1981-01-02           NaN\n",
              "1981-01-03           NaN\n",
              "1981-01-04           NaN\n",
              "1981-01-05           NaN"
            ]
          },
          "metadata": {
            "tags": []
          },
          "execution_count": 128
        }
      ]
    },
    {
      "cell_type": "code",
      "metadata": {
        "id": "znoQqCeyASiC",
        "colab_type": "code",
        "colab": {}
      },
      "source": [
        "prov = prov.reset_index()"
      ],
      "execution_count": 0,
      "outputs": []
    },
    {
      "cell_type": "code",
      "metadata": {
        "id": "MdFQLEynATtf",
        "colab_type": "code",
        "colab": {}
      },
      "source": [
        "prov[\"Substituido\"] = \"N\""
      ],
      "execution_count": 0,
      "outputs": []
    },
    {
      "cell_type": "code",
      "metadata": {
        "id": "Mpoapet8AhLF",
        "colab_type": "code",
        "outputId": "c99fcaa4-1239-49b2-efc2-98e1e8d98adb",
        "colab": {
          "base_uri": "https://localhost:8080/",
          "height": 49
        }
      },
      "source": [
        "prov[prov[\"Substituido\"] == \"S\"]"
      ],
      "execution_count": 0,
      "outputs": [
        {
          "output_type": "execute_result",
          "data": {
            "text/html": [
              "<div>\n",
              "<style scoped>\n",
              "    .dataframe tbody tr th:only-of-type {\n",
              "        vertical-align: middle;\n",
              "    }\n",
              "\n",
              "    .dataframe tbody tr th {\n",
              "        vertical-align: top;\n",
              "    }\n",
              "\n",
              "    .dataframe thead th {\n",
              "        text-align: right;\n",
              "    }\n",
              "</style>\n",
              "<table border=\"1\" class=\"dataframe\">\n",
              "  <thead>\n",
              "    <tr style=\"text-align: right;\">\n",
              "      <th></th>\n",
              "      <th>index</th>\n",
              "      <th>TempMaxInmet</th>\n",
              "      <th>Substituido</th>\n",
              "    </tr>\n",
              "  </thead>\n",
              "  <tbody>\n",
              "  </tbody>\n",
              "</table>\n",
              "</div>"
            ],
            "text/plain": [
              "Empty DataFrame\n",
              "Columns: [index, TempMaxInmet, Substituido]\n",
              "Index: []"
            ]
          },
          "metadata": {
            "tags": []
          },
          "execution_count": 132
        }
      ]
    }
  ]
}